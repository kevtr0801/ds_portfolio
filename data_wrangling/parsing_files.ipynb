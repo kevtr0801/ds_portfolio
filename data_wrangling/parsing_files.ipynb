{
 "cells": [
  {
   "cell_type": "code",
   "execution_count": 1,
   "metadata": {},
   "outputs": [],
   "source": [
    "# Load required packages\n",
    "import pandas as pd\n",
    "import re\n",
    "import os\n",
    "import xml.etree.ElementTree as ET\n"
   ]
  },
  {
   "cell_type": "code",
   "execution_count": 35,
   "metadata": {},
   "outputs": [],
   "source": [
    "rev_id = []\n",
    "prod_id = []\n",
    "rev_name = []\n",
    "no_help = []\n",
    "rev_date  = []\n",
    "rev_text = []\n",
    "summary = []\n",
    "\n",
    "# define regex pattern\n",
    "rev_id_pattern = r\"^\\$(rev|reviewer)[id_.\\:]+\\s[A-Z0-9]+$\"\n",
    "prod_id_pattern = r\"^\\$(prod|product)[id_.\\:]+\\s[A-Z0-9]+$\"\n",
    "\n",
    "with open ('./review_a.txt', \"r+\") as file_1:\n",
    "    for line in file_1:\n",
    "        line = line.strip()\n",
    "        match_rev_id = re.search(rev_id_pattern, line)\n",
    "        if match_rev_id:\n",
    "            id_match = match_rev_id.group(0).strip()\n",
    "            match_id = re.search(r\"[a-zA-Z0-9]+$\", id_match)\n",
    "            if match_id:\n",
    "              actual_id = match_id.group(0)\n",
    "              rev_id.append(actual_id)\n",
    "    "
   ]
  },
  {
   "cell_type": "code",
   "execution_count": 36,
   "metadata": {},
   "outputs": [
    {
     "data": {
      "text/plain": [
       "['A1BWD4UA5QTBOI',\n",
       " 'A27JB8ALUWAECO',\n",
       " 'A32B6A532454UD',\n",
       " 'A225M3GAYN01IG',\n",
       " 'AX2F72W2O86WI']"
      ]
     },
     "execution_count": 36,
     "metadata": {},
     "output_type": "execute_result"
    }
   ],
   "source": [
    "rev_id[:5]"
   ]
  },
  {
   "cell_type": "code",
   "execution_count": 34,
   "metadata": {},
   "outputs": [
    {
     "data": {
      "text/plain": [
       "<_io.TextIOWrapper name='./review_a.txt' mode='r+' encoding='UTF-8'>"
      ]
     },
     "execution_count": 34,
     "metadata": {},
     "output_type": "execute_result"
    }
   ],
   "source": [
    "file_1"
   ]
  },
  {
   "cell_type": "code",
   "execution_count": null,
   "metadata": {},
   "outputs": [],
   "source": [
    "# with open ('./review_a.txt', \"r+\") as file_1:\n",
    "#     for line in file_1:\n",
    "#         line = line.strip()\n",
    "#         match_rev_id = re.search(rev_id_pattern, line, re.IGNORECASE)\n",
    "#         if match_rev_id:\n",
    "#             actual_id = match_rev_id.group(0)\n",
    "#             rev_id.append(actual_id)"
   ]
  }
 ],
 "metadata": {
  "kernelspec": {
   "display_name": "Python 3",
   "language": "python",
   "name": "python3"
  },
  "language_info": {
   "codemirror_mode": {
    "name": "ipython",
    "version": 3
   },
   "file_extension": ".py",
   "mimetype": "text/x-python",
   "name": "python",
   "nbconvert_exporter": "python",
   "pygments_lexer": "ipython3",
   "version": "3.10.5"
  },
  "orig_nbformat": 4
 },
 "nbformat": 4,
 "nbformat_minor": 2
}
