{
 "cells": [
  {
   "cell_type": "markdown",
   "metadata": {},
   "source": [
    "# FIT5202 2024 S2 Assignment 1 : Analysing Fraudulent Transaction Data\n",
    "\n",
    "## Table of Contents\n",
    "* [Part 1 : Working with RDD](#part-1)  \n",
    "    - [1.1 Data Preparation and Loading](#1.1)  \n",
    "    - [1.2 Data Partitioning in RDD](#1.2)  \n",
    "    - [1.3 Query/Analysis](#1.3)  \n",
    "* [Part 2 : Working with DataFrames](#2-dataframes)  \n",
    "    - [2.1 Data Preparation and Loading](#2-dataframes)  \n",
    "    - [2.2 Query/Analysis](#2.2)  \n",
    "* [Part 3 :  RDDs vs DataFrame vs Spark SQL](#part-3)  "
   ]
  },
  {
   "cell_type": "markdown",
   "metadata": {},
   "source": [
    "# Part 1 : Working with RDDs (30%) <a class=\"anchor\" name=\"part-1\"></a>\n",
    "## 1.1 Working with RDD\n",
    "In this section, you will need to create RDDs from the given datasets, perform partitioning in these RDDs and use various RDD operations to answer the queries. \n",
    "\n",
    "1.1.1 Data Preparation and Loading <a class=\"anchor\" name=\"1.1\"></a>\n",
    "Write the code to create a SparkContext object using SparkSession. To create a SparkSession you first need to build a SparkConf object that contains information about your application, use Melbourne time as the session timezone. Give an appropriate name for your application and run Spark locally with 4 cores on your machine. "
   ]
  },
  {
   "cell_type": "code",
   "execution_count": 1,
   "metadata": {},
   "outputs": [],
   "source": [
    "# sc.stop()"
   ]
  },
  {
   "cell_type": "code",
   "execution_count": 2,
   "metadata": {},
   "outputs": [],
   "source": [
    "from pyspark import SparkConf\n",
    "master = \"local[4]\"  # 4 cores\n",
    "app_name = \"FIT5202 A1\"\n",
    "spark_conf = SparkConf().setMaster(master).setAppName(app_name)\n",
    "spark_conf.set(\"spark.sql.session.timeZone\", \"Australia/Melbourne\") # timezone\n",
    "\n",
    "from pyspark import SparkContext \n",
    "from pyspark.sql import SparkSession \n",
    "\n",
    "spark = SparkSession.builder.config(conf=spark_conf).getOrCreate()\n",
    "# spark.sql(\"SET TIME ZONE 'Australia/Melbourne'\")\n",
    "sc = spark.sparkContext\n",
    "sc.setLogLevel('ERROR')"
   ]
  },
  {
   "cell_type": "markdown",
   "metadata": {},
   "source": [
    "1.1.2 Load csv files into multiple RDDs."
   ]
  },
  {
   "cell_type": "code",
   "execution_count": 3,
   "metadata": {},
   "outputs": [],
   "source": [
    "category_rdd  = sc.textFile('category.csv')\n",
    "customers_rdd = sc.textFile('customers.csv')\n",
    "geolocation_rdd = sc.textFile('geolocation.csv')\n",
    "merchant_rdd = sc.textFile('merchant.csv')\n",
    "transactions_rdd = sc.textFile('transactions.csv')"
   ]
  },
  {
   "cell_type": "markdown",
   "metadata": {},
   "source": [
    "1.1.3 For each RDD, remove the header rows and display the total count and first 10 records. (Hint: You can use csv.reader to parse rows into RDDs.)"
   ]
  },
  {
   "cell_type": "code",
   "execution_count": 4,
   "metadata": {},
   "outputs": [],
   "source": [
    "from pyspark.rdd import RDD\n",
    "import csv\n",
    "\n",
    "def remove_header(rdd):\n",
    "    rdd = rdd.map(lambda line: next(csv.reader([line]))) \n",
    "    header = rdd.first()\n",
    "    rdd = rdd.filter(lambda row: row != header)\n",
    "    return rdd\n",
    "    \n",
    "category_rdd = remove_header(category_rdd)\n",
    "customers_rdd = remove_header(customers_rdd)\n",
    "geolocation_rdd = remove_header(geolocation_rdd)\n",
    "merchant_rdd = remove_header(merchant_rdd)\n",
    "transactions_rdd = remove_header(transactions_rdd)"
   ]
  },
  {
   "cell_type": "code",
   "execution_count": 5,
   "metadata": {},
   "outputs": [
    {
     "data": {
      "text/plain": [
       "14"
      ]
     },
     "metadata": {},
     "output_type": "display_data"
    },
    {
     "data": {
      "text/plain": [
       "[['Entertainment', '1'],\n",
       " ['Food_Dining', '2'],\n",
       " ['Gas_Transport', '3'],\n",
       " ['Grocery(Online)', '4'],\n",
       " ['Grocery(In Store)', '5'],\n",
       " ['Health_Fitness', '6'],\n",
       " ['Home', '7'],\n",
       " ['Pets', '8'],\n",
       " ['Misc(Online)\\\\', '9'],\n",
       " ['Misc(In Store)', '10']]"
      ]
     },
     "execution_count": 5,
     "metadata": {},
     "output_type": "execute_result"
    }
   ],
   "source": [
    "display(category_rdd.count())\n",
    "category_rdd.take(10)"
   ]
  },
  {
   "cell_type": "code",
   "execution_count": 6,
   "metadata": {},
   "outputs": [
    {
     "data": {
      "text/plain": [
       "10000"
      ]
     },
     "metadata": {},
     "output_type": "display_data"
    },
    {
     "data": {
      "text/plain": [
       "[['263-99-6044',\n",
       "  '4241904966319315',\n",
       "  'Melissa',\n",
       "  'Turner',\n",
       "  'F',\n",
       "  '058 Stanley Cliff',\n",
       "  'Risk manager',\n",
       "  '2005-05-30',\n",
       "  '376443331852',\n",
       "  '6339'],\n",
       " ['292-61-7844',\n",
       "  '30520471167198',\n",
       "  'Mark',\n",
       "  'Brown',\n",
       "  'M',\n",
       "  '413 Angela Mall',\n",
       "  'Trading standards officer',\n",
       "  '2003-04-19',\n",
       "  '870143739098',\n",
       "  '6200'],\n",
       " ['491-28-3311',\n",
       "  '180084219933088',\n",
       "  'Courtney',\n",
       "  'Hall',\n",
       "  'F',\n",
       "  '5712 Tamara Estate',\n",
       "  'Optometrist',\n",
       "  '2002-04-17',\n",
       "  '965855026307',\n",
       "  '3547'],\n",
       " ['826-23-1754',\n",
       "  '2623398454615676',\n",
       "  'Krystal',\n",
       "  'Branch',\n",
       "  'F',\n",
       "  '1016 Bennett Mountains',\n",
       "  'Banker',\n",
       "  '2001-07-15',\n",
       "  '11324746755',\n",
       "  '6302'],\n",
       " ['172-11-9264',\n",
       "  '639034043849',\n",
       "  'Carol',\n",
       "  'Ellis',\n",
       "  'F',\n",
       "  '819 Joseph Plains Suite 807',\n",
       "  'Sports coach',\n",
       "  '2003-11-21',\n",
       "  '113495175185',\n",
       "  '5227'],\n",
       " ['150-95-7922',\n",
       "  '343731453038560',\n",
       "  'Julie',\n",
       "  'Gibson',\n",
       "  'F',\n",
       "  '51844 Nicholas Lane',\n",
       "  'Medical secretary',\n",
       "  '2006-03-06',\n",
       "  '719783599768',\n",
       "  '4047'],\n",
       " ['841-99-2980',\n",
       "  '3525799136621031',\n",
       "  'Joseph',\n",
       "  'Blankenship',\n",
       "  'M',\n",
       "  '91279 Natalie Place Apt. 172',\n",
       "  'Toxicologist',\n",
       "  '2005-07-01',\n",
       "  '908554315130',\n",
       "  '6271'],\n",
       " ['705-41-6699',\n",
       "  '342694486959460',\n",
       "  'Nicole',\n",
       "  'Gutierrez',\n",
       "  'F',\n",
       "  '58874 Lane Trail Suite 213',\n",
       "  'Product manager',\n",
       "  '2003-01-23',\n",
       "  '772162574642',\n",
       "  '6302'],\n",
       " ['016-22-4524',\n",
       "  '3563009792513271',\n",
       "  'Anna',\n",
       "  'Montgomery',\n",
       "  'F',\n",
       "  '52812 Hall Point',\n",
       "  'Loss adjuster, chartered',\n",
       "  '2001-08-26',\n",
       "  '982712248618',\n",
       "  '5614'],\n",
       " ['639-46-2126',\n",
       "  '3587729343010715',\n",
       "  'Nancy',\n",
       "  'Clark',\n",
       "  'F',\n",
       "  '0558 Alex Flats Suite 414',\n",
       "  'Hydrologist',\n",
       "  '2005-02-10',\n",
       "  '603471636817',\n",
       "  '6328']]"
      ]
     },
     "execution_count": 6,
     "metadata": {},
     "output_type": "execute_result"
    }
   ],
   "source": [
    "display(customers_rdd.count())\n",
    "customers_rdd.take(10)"
   ]
  },
  {
   "cell_type": "code",
   "execution_count": 7,
   "metadata": {},
   "outputs": [
    {
     "data": {
      "text/plain": [
       "6342"
      ]
     },
     "metadata": {},
     "output_type": "display_data"
    },
    {
     "data": {
      "text/plain": [
       "[['Burkeville', 'TX', '75932', '31.0099', '-93.6585', '1', '1437'],\n",
       " ['Fresno', 'TX', '77545', '29.5293', '-95.4626', '2', '19431'],\n",
       " ['Osseo', 'MN', '55311', '45.1243', '-93.4996', '3', '65312'],\n",
       " ['Pomona', 'CA', '91766', '34.0418', '-117.7569', '4', '154204'],\n",
       " ['Vacaville', 'CA', '95688', '38.3847', '-121.9887', '5', '99475'],\n",
       " ['South Lake Tahoe', 'CA', '96150', '38.917', '-119.9865', '6', '29800'],\n",
       " ['Belvidere', 'TN', '37306', '35.1415', '-86.1728', '7', '2760'],\n",
       " ['Columbia', 'SC', '29205', '33.9903', '-80.9997', '8', '333497'],\n",
       " ['Chicago', 'IL', '60660', '41.9909', '-87.6629', '9', '2680484'],\n",
       " ['Tunnelton', 'WV', '26444', '39.3625', '-79.7478', '10', '3639']]"
      ]
     },
     "execution_count": 7,
     "metadata": {},
     "output_type": "execute_result"
    }
   ],
   "source": [
    "display(geolocation_rdd.count())\n",
    "geolocation_rdd.take(10)"
   ]
  },
  {
   "cell_type": "code",
   "execution_count": 8,
   "metadata": {},
   "outputs": [
    {
     "data": {
      "text/plain": [
       "3837031"
      ]
     },
     "metadata": {},
     "output_type": "display_data"
    },
    {
     "data": {
      "text/plain": [
       "[['Bins-Tillman', '6051', '1'],\n",
       " ['Hahn, Douglas and Schowalter', '1276', '2'],\n",
       " ['Hayes, Marquardt and Dibbert', '1383', '3'],\n",
       " ['Mueller, Gerhold and Mueller', '1846', '4'],\n",
       " ['Kerluke Inc', '1784', '5'],\n",
       " ['Waelchi Inc', '4637', '6'],\n",
       " ['Trantow PLC', '2176', '7'],\n",
       " ['Runolfsson and Sons', '3968', '8'],\n",
       " ['Bechtelar-Rippin', '1048', '9'],\n",
       " ['Schumm, Bauch and Ondricka', '1553', '10']]"
      ]
     },
     "execution_count": 8,
     "metadata": {},
     "output_type": "execute_result"
    }
   ],
   "source": [
    "display(merchant_rdd.count())\n",
    "merchant_rdd.take(10)"
   ]
  },
  {
   "cell_type": "code",
   "execution_count": 9,
   "metadata": {},
   "outputs": [
    {
     "data": {
      "text/plain": [
       "22949835"
      ]
     },
     "metadata": {},
     "output_type": "display_data"
    },
    {
     "data": {
      "text/plain": [
       "[['0c20530e90719213c442744161a1850b',\n",
       "  '1622367050',\n",
       "  '87.18',\n",
       "  '0',\n",
       "  '794-45-4364',\n",
       "  '46',\n",
       "  '2641132',\n",
       "  '12'],\n",
       " ['984fc48fc946605deefc9d0967582811',\n",
       "  '1609183538',\n",
       "  '276.97',\n",
       "  '0',\n",
       "  '436-80-2340',\n",
       "  '60',\n",
       "  '2932280',\n",
       "  '5'],\n",
       " ['b13ff47c73689bc4c8320c0ce403b15d',\n",
       "  '1655595319',\n",
       "  '7.67',\n",
       "  '0',\n",
       "  '385-77-6544',\n",
       "  '87',\n",
       "  '2708770',\n",
       "  '2'],\n",
       " ['7cffae35cab67d9415f9f22d91ca7acc',\n",
       "  '1613234460',\n",
       "  '198.96',\n",
       "  '0',\n",
       "  '450-56-1117',\n",
       "  '138',\n",
       "  '1170872',\n",
       "  '10'],\n",
       " ['22e01cb3403a4c7ce598ebe785e1e947',\n",
       "  '1605030979',\n",
       "  '33.46',\n",
       "  '0',\n",
       "  '397-54-0253',\n",
       "  '218',\n",
       "  '2470519',\n",
       "  '5'],\n",
       " ['1d174d018228efcd1d5800f768628904',\n",
       "  '1608989049',\n",
       "  '2.74',\n",
       "  '0',\n",
       "  '248-09-7729',\n",
       "  '222',\n",
       "  '3436926',\n",
       "  '9'],\n",
       " ['532536d65907e08d938cb31e3631ddd4',\n",
       "  '1650997797',\n",
       "  '1.23',\n",
       "  '0',\n",
       "  '277-12-7638',\n",
       "  '337',\n",
       "  '3750746',\n",
       "  '2'],\n",
       " ['32d76f65b7512afbdc99331ee96bc6d7',\n",
       "  '1649986601',\n",
       "  '7.78',\n",
       "  '0',\n",
       "  '615-63-3623',\n",
       "  '718',\n",
       "  '3773961',\n",
       "  '2'],\n",
       " ['c3f29bca602c9e2e9a188567f06d632f',\n",
       "  '1617032215',\n",
       "  '218.8',\n",
       "  '0',\n",
       "  '877-16-8226',\n",
       "  '747',\n",
       "  '2377216',\n",
       "  '10'],\n",
       " ['c56ef2e4a43d867128839b97bc1dbb66',\n",
       "  '1609250028',\n",
       "  '62.1',\n",
       "  '0',\n",
       "  '823-85-5801',\n",
       "  '950',\n",
       "  '652447',\n",
       "  '5']]"
      ]
     },
     "execution_count": 9,
     "metadata": {},
     "output_type": "execute_result"
    }
   ],
   "source": [
    "display(transactions_rdd.count())\n",
    "transactions_rdd.take(10)"
   ]
  },
  {
   "cell_type": "markdown",
   "metadata": {},
   "source": [
    "1.1.4 Drop personal information columns from RDDs: cc_num, firstname, lastname, address. "
   ]
  },
  {
   "cell_type": "code",
   "execution_count": 10,
   "metadata": {},
   "outputs": [
    {
     "data": {
      "text/plain": [
       "[['263-99-6044', 'F', 'Risk manager', '2005-05-30', '376443331852', '6339'],\n",
       " ['292-61-7844',\n",
       "  'M',\n",
       "  'Trading standards officer',\n",
       "  '2003-04-19',\n",
       "  '870143739098',\n",
       "  '6200'],\n",
       " ['491-28-3311', 'F', 'Optometrist', '2002-04-17', '965855026307', '3547'],\n",
       " ['826-23-1754', 'F', 'Banker', '2001-07-15', '11324746755', '6302'],\n",
       " ['172-11-9264', 'F', 'Sports coach', '2003-11-21', '113495175185', '5227'],\n",
       " ['150-95-7922',\n",
       "  'F',\n",
       "  'Medical secretary',\n",
       "  '2006-03-06',\n",
       "  '719783599768',\n",
       "  '4047'],\n",
       " ['841-99-2980', 'M', 'Toxicologist', '2005-07-01', '908554315130', '6271'],\n",
       " ['705-41-6699', 'F', 'Product manager', '2003-01-23', '772162574642', '6302'],\n",
       " ['016-22-4524',\n",
       "  'F',\n",
       "  'Loss adjuster, chartered',\n",
       "  '2001-08-26',\n",
       "  '982712248618',\n",
       "  '5614'],\n",
       " ['639-46-2126', 'F', 'Hydrologist', '2005-02-10', '603471636817', '6328']]"
      ]
     },
     "execution_count": 10,
     "metadata": {},
     "output_type": "execute_result"
    }
   ],
   "source": [
    "customers_rdd_new = customers_rdd.map(lambda row: row[0:1] + row[4:5] + row[6:]) # removed by only selecting relevant cols\n",
    "customers_rdd_new.take(10)"
   ]
  },
  {
   "cell_type": "markdown",
   "metadata": {},
   "source": [
    "### 1.2 Data Partitioning in RDD <a class=\"anchor\" name=\"1.2\"></a>\n",
    "1.2.1 For each RDD, print out the total number of partitions and the number of records in each partition."
   ]
  },
  {
   "cell_type": "code",
   "execution_count": 11,
   "metadata": {},
   "outputs": [],
   "source": [
    "def print_partitions(data):\n",
    "    if isinstance(data, RDD):\n",
    "        numPartitions = data.getNumPartitions()\n",
    "        partitions = data.glom().collect()\n",
    "    else:\n",
    "        numPartitions = data.rdd.getNumPartitions()\n",
    "        partitions = data.rdd.glom().collect()\n",
    "    \n",
    "    print(f\"####### NUMBER OF PARTITIONS: {numPartitions}\")\n",
    "    for index, partition in enumerate(partitions):\n",
    "        if len(partition) > 0:\n",
    "            print(f\"Partition {index}: {len(partition)} records\")"
   ]
  },
  {
   "cell_type": "code",
   "execution_count": 12,
   "metadata": {},
   "outputs": [
    {
     "name": "stdout",
     "output_type": "stream",
     "text": [
      "####### NUMBER OF PARTITIONS: 2\n",
      "Partition 0: 6 records\n",
      "Partition 1: 8 records\n"
     ]
    }
   ],
   "source": [
    "print_partitions(category_rdd)"
   ]
  },
  {
   "cell_type": "code",
   "execution_count": 13,
   "metadata": {},
   "outputs": [
    {
     "name": "stdout",
     "output_type": "stream",
     "text": [
      "####### NUMBER OF PARTITIONS: 2\n",
      "Partition 0: 5002 records\n",
      "Partition 1: 4998 records\n"
     ]
    }
   ],
   "source": [
    "print_partitions(customers_rdd_new)"
   ]
  },
  {
   "cell_type": "code",
   "execution_count": 14,
   "metadata": {},
   "outputs": [
    {
     "name": "stdout",
     "output_type": "stream",
     "text": [
      "####### NUMBER OF PARTITIONS: 2\n",
      "Partition 0: 3178 records\n",
      "Partition 1: 3164 records\n"
     ]
    }
   ],
   "source": [
    "print_partitions(geolocation_rdd)"
   ]
  },
  {
   "cell_type": "code",
   "execution_count": 15,
   "metadata": {},
   "outputs": [
    {
     "name": "stdout",
     "output_type": "stream",
     "text": [
      "####### NUMBER OF PARTITIONS: 4\n",
      "Partition 0: 1094930 records\n",
      "Partition 1: 1059961 records\n",
      "Partition 2: 1059729 records\n",
      "Partition 3: 622411 records\n"
     ]
    }
   ],
   "source": [
    "print_partitions(merchant_rdd)"
   ]
  },
  {
   "cell_type": "code",
   "execution_count": 16,
   "metadata": {},
   "outputs": [
    {
     "name": "stdout",
     "output_type": "stream",
     "text": [
      "####### NUMBER OF PARTITIONS: 56\n",
      "Partition 0: 409654 records\n",
      "Partition 1: 409552 records\n",
      "Partition 2: 409551 records\n",
      "Partition 3: 409568 records\n",
      "Partition 4: 409556 records\n",
      "Partition 5: 409615 records\n",
      "Partition 6: 409623 records\n",
      "Partition 7: 409562 records\n",
      "Partition 8: 409556 records\n",
      "Partition 9: 409568 records\n",
      "Partition 10: 409558 records\n",
      "Partition 11: 409590 records\n",
      "Partition 12: 409620 records\n",
      "Partition 13: 409626 records\n",
      "Partition 14: 409575 records\n",
      "Partition 15: 409576 records\n",
      "Partition 16: 409570 records\n",
      "Partition 17: 409576 records\n",
      "Partition 18: 409544 records\n",
      "Partition 19: 409653 records\n",
      "Partition 20: 409581 records\n",
      "Partition 21: 409577 records\n",
      "Partition 22: 409557 records\n",
      "Partition 23: 409565 records\n",
      "Partition 24: 409576 records\n",
      "Partition 25: 409604 records\n",
      "Partition 26: 409617 records\n",
      "Partition 27: 409570 records\n",
      "Partition 28: 409541 records\n",
      "Partition 29: 409582 records\n",
      "Partition 30: 409562 records\n",
      "Partition 31: 409584 records\n",
      "Partition 32: 409654 records\n",
      "Partition 33: 409598 records\n",
      "Partition 34: 409547 records\n",
      "Partition 35: 409578 records\n",
      "Partition 36: 409581 records\n",
      "Partition 37: 409574 records\n",
      "Partition 38: 409564 records\n",
      "Partition 39: 409657 records\n",
      "Partition 40: 409580 records\n",
      "Partition 41: 409565 records\n",
      "Partition 42: 409561 records\n",
      "Partition 43: 409583 records\n",
      "Partition 44: 409557 records\n",
      "Partition 45: 409596 records\n",
      "Partition 46: 409630 records\n",
      "Partition 47: 409566 records\n",
      "Partition 48: 409568 records\n",
      "Partition 49: 409558 records\n",
      "Partition 50: 409582 records\n",
      "Partition 51: 409555 records\n",
      "Partition 52: 409599 records\n",
      "Partition 53: 409657 records\n",
      "Partition 54: 409563 records\n",
      "Partition 55: 422753 records\n"
     ]
    }
   ],
   "source": [
    "trans_partition = transactions_rdd.getNumPartitions()\n",
    "print(f\"####### NUMBER OF PARTITIONS: {trans_partition}\")\n",
    "\n",
    "def count_records(index, partition):\n",
    "    count = len(list(partition))  \n",
    "    return [(index, count)]  \n",
    "\n",
    "trans_records = transactions_rdd.mapPartitionsWithIndex(count_records).collect()\n",
    "for index, records in trans_records:\n",
    "        if records > 0:\n",
    "            print(f\"Partition {index}: {records} records\")"
   ]
  },
  {
   "cell_type": "markdown",
   "metadata": {},
   "source": [
    "1.2.2 Answer the following questions:   \n",
    "a) How many partitions do the above RDDs have?   \n",
    "b) How is the data in these RDDs partitioned by default, when we do not explicitly specify any partitioning strategy? Can you explain why it is partitioned in this number?   \n",
    "c) Assuming we are querying the dataset based on transaction date, can you think of a better strategy to partition the data based on your available hardware resources?"
   ]
  },
  {
   "cell_type": "markdown",
   "metadata": {},
   "source": [
    "Your answer for a: \\\n",
    "For category, customer and geolocation RDD's, there are 2 partitions. For merchant there are 4 partitions, whereas transaction RDD has 56 partitions. "
   ]
  },
  {
   "cell_type": "markdown",
   "metadata": {},
   "source": [
    "Your answer for b \\\n",
    "The default partioning method done above was hash partitioning. "
   ]
  },
  {
   "cell_type": "markdown",
   "metadata": {},
   "source": [
    "Your answer for c \\\n",
    "I would use range partitioning on the transaction dates by both year and month. For example for each transaction, partioned as: \n",
    "- Partition 0: January 2020\n",
    "- Partition 1: February 2020\n",
    "- Partition 13: January 2021 etc.\n",
    "This would help improve query performance as it minimises the amount of data accessed. For example, if I want to analyse requests from transactions in January of 2020, I only need to access that partition. This also provides scalability since each data is distributed evenly as possible aross partitions which helps parallel processing."
   ]
  },
  {
   "cell_type": "markdown",
   "metadata": {},
   "source": [
    "1.2.3 Create a user defined function (UDF) to transform trans_timestamp to ISO format(YYYY-MM-DD hh:mm:ss), then call the UDF and add a new column trans_datetime."
   ]
  },
  {
   "cell_type": "code",
   "execution_count": 17,
   "metadata": {},
   "outputs": [
    {
     "name": "stdout",
     "output_type": "stream",
     "text": [
      "+--------------------+---------------+------+------+--------------+----+-----------+----------+-------------------+\n",
      "|            trans_id|trans_timestamp|amount|status|account_number| age|customer_id|product_id|     trans_datetime|\n",
      "+--------------------+---------------+------+------+--------------+----+-----------+----------+-------------------+\n",
      "|0c20530e90719213c...|     1622367050| 87.18|     0|   794-45-4364|  46|    2641132|        12|2021-05-30 09:30:50|\n",
      "|984fc48fc946605de...|     1609183538|276.97|     0|   436-80-2340|  60|    2932280|         5|2020-12-28 19:25:38|\n",
      "|b13ff47c73689bc4c...|     1655595319|  7.67|     0|   385-77-6544|  87|    2708770|         2|2022-06-18 23:35:19|\n",
      "|7cffae35cab67d941...|     1613234460|198.96|     0|   450-56-1117| 138|    1170872|        10|2021-02-13 16:41:00|\n",
      "|22e01cb3403a4c7ce...|     1605030979| 33.46|     0|   397-54-0253| 218|    2470519|         5|2020-11-10 17:56:19|\n",
      "|1d174d018228efcd1...|     1608989049|  2.74|     0|   248-09-7729| 222|    3436926|         9|2020-12-26 13:24:09|\n",
      "|532536d65907e08d9...|     1650997797|  1.23|     0|   277-12-7638| 337|    3750746|         2|2022-04-26 18:29:57|\n",
      "|32d76f65b7512afbd...|     1649986601|  7.78|     0|   615-63-3623| 718|    3773961|         2|2022-04-15 01:36:41|\n",
      "|c3f29bca602c9e2e9...|     1617032215| 218.8|     0|   877-16-8226| 747|    2377216|        10|2021-03-29 15:36:55|\n",
      "|c56ef2e4a43d86712...|     1609250028|  62.1|     0|   823-85-5801| 950|     652447|         5|2020-12-29 13:53:48|\n",
      "|4536b699eb5cc3469...|     1606693294|118.88|     0|   405-98-3408| 964|    1864384|         5|2020-11-29 23:41:34|\n",
      "|2e264de99568063fc...|     1597850241| 85.14|     0|   296-96-6479|1090|    3331465|         5|2020-08-19 15:17:21|\n",
      "|08b2081e85f967230...|     1607627939|  56.1|     0|   120-21-3601|1108|    3274304|         5|2020-12-10 19:18:59|\n",
      "|a515d05dda6a5dce6...|     1605387697| 60.43|     0|   410-97-3989|2105|     136622|         5|2020-11-14 21:01:37|\n",
      "|0bdcd5d3f61a20fc3...|     1648971785|  2.01|     0|   031-66-3742|2148|     787067|         1|2022-04-03 07:43:05|\n",
      "|c225fd0709a65956c...|     1622189742| 59.11|     0|   511-52-9251|2156|    1517206|        12|2021-05-28 08:15:42|\n",
      "|144480628d40f0653...|     1606914689|205.95|     0|   839-33-4415|2246|     645164|         9|2020-12-02 13:11:29|\n",
      "|ae4ea804e5db4c80e...|     1588697703| 39.99|     0|   892-62-7211|2352|     284930|         4|2020-05-05 16:55:03|\n",
      "|87ffe1a28514f81d8...|     1593727269| 42.76|     0|   432-36-7641|2431|    2515337|         5|2020-07-02 22:01:09|\n",
      "|32467bc8cce7cb871...|     1648825723|291.75|     0|   687-93-6553|2576|    2690761|         2|2022-04-01 15:08:43|\n",
      "+--------------------+---------------+------+------+--------------+----+-----------+----------+-------------------+\n",
      "only showing top 20 rows\n",
      "\n"
     ]
    }
   ],
   "source": [
    "from datetime import datetime\n",
    "from pyspark.sql.functions import udf\n",
    "from pyspark.sql.types import StringType\n",
    "\n",
    "def convert_time(trans_timestamp):\n",
    "    trans_timestamp = int(trans_timestamp)\n",
    "    trans_datetime = datetime.fromtimestamp(trans_timestamp).strftime('%Y-%m-%d %H:%M:%S')\n",
    "    return trans_datetime\n",
    "\n",
    "iso_udf = udf(convert_time,StringType()) # the inputs of trans_datetime will be string\n",
    "transactions_df = transactions_rdd.toDF([\"trans_id\", \"trans_timestamp\", \"amount\", \"status\", \"account_number\", \"age\", \"customer_id\", \"product_id\"])\n",
    "transactions_df = transactions_df.withColumn(\"trans_datetime\", iso_udf(\"trans_timestamp\"))\n",
    "transactions_df.show()\n",
    "transactions_rdd2 = transactions_df.rdd"
   ]
  },
  {
   "cell_type": "markdown",
   "metadata": {},
   "source": [
    "After applying udf, converted dataframe back to RDD format."
   ]
  },
  {
   "cell_type": "code",
   "execution_count": 18,
   "metadata": {},
   "outputs": [
    {
     "data": {
      "text/plain": [
       "[['0c20530e90719213c442744161a1850b',\n",
       "  '1622367050',\n",
       "  '87.18',\n",
       "  '0',\n",
       "  '794-45-4364',\n",
       "  '46',\n",
       "  '2641132',\n",
       "  '12',\n",
       "  '2021-05-30 09:30:50'],\n",
       " ['984fc48fc946605deefc9d0967582811',\n",
       "  '1609183538',\n",
       "  '276.97',\n",
       "  '0',\n",
       "  '436-80-2340',\n",
       "  '60',\n",
       "  '2932280',\n",
       "  '5',\n",
       "  '2020-12-28 19:25:38'],\n",
       " ['b13ff47c73689bc4c8320c0ce403b15d',\n",
       "  '1655595319',\n",
       "  '7.67',\n",
       "  '0',\n",
       "  '385-77-6544',\n",
       "  '87',\n",
       "  '2708770',\n",
       "  '2',\n",
       "  '2022-06-18 23:35:19'],\n",
       " ['7cffae35cab67d9415f9f22d91ca7acc',\n",
       "  '1613234460',\n",
       "  '198.96',\n",
       "  '0',\n",
       "  '450-56-1117',\n",
       "  '138',\n",
       "  '1170872',\n",
       "  '10',\n",
       "  '2021-02-13 16:41:00'],\n",
       " ['22e01cb3403a4c7ce598ebe785e1e947',\n",
       "  '1605030979',\n",
       "  '33.46',\n",
       "  '0',\n",
       "  '397-54-0253',\n",
       "  '218',\n",
       "  '2470519',\n",
       "  '5',\n",
       "  '2020-11-10 17:56:19'],\n",
       " ['1d174d018228efcd1d5800f768628904',\n",
       "  '1608989049',\n",
       "  '2.74',\n",
       "  '0',\n",
       "  '248-09-7729',\n",
       "  '222',\n",
       "  '3436926',\n",
       "  '9',\n",
       "  '2020-12-26 13:24:09'],\n",
       " ['532536d65907e08d938cb31e3631ddd4',\n",
       "  '1650997797',\n",
       "  '1.23',\n",
       "  '0',\n",
       "  '277-12-7638',\n",
       "  '337',\n",
       "  '3750746',\n",
       "  '2',\n",
       "  '2022-04-26 18:29:57'],\n",
       " ['32d76f65b7512afbdc99331ee96bc6d7',\n",
       "  '1649986601',\n",
       "  '7.78',\n",
       "  '0',\n",
       "  '615-63-3623',\n",
       "  '718',\n",
       "  '3773961',\n",
       "  '2',\n",
       "  '2022-04-15 01:36:41'],\n",
       " ['c3f29bca602c9e2e9a188567f06d632f',\n",
       "  '1617032215',\n",
       "  '218.8',\n",
       "  '0',\n",
       "  '877-16-8226',\n",
       "  '747',\n",
       "  '2377216',\n",
       "  '10',\n",
       "  '2021-03-29 15:36:55'],\n",
       " ['c56ef2e4a43d867128839b97bc1dbb66',\n",
       "  '1609250028',\n",
       "  '62.1',\n",
       "  '0',\n",
       "  '823-85-5801',\n",
       "  '950',\n",
       "  '652447',\n",
       "  '5',\n",
       "  '2020-12-29 13:53:48']]"
      ]
     },
     "execution_count": 18,
     "metadata": {},
     "output_type": "execute_result"
    }
   ],
   "source": [
    "from pyspark.sql import Row\n",
    "#header = transactions_rdd2.first()\n",
    "#transactions_rdd2 = transactions_rdd2.filter(lambda row: row != header)\n",
    "transactions_rdd2 = transactions_rdd2.map(lambda row: list(row))\n",
    "transactions_rdd2.take(10)"
   ]
  },
  {
   "cell_type": "markdown",
   "metadata": {},
   "source": [
    "### 1.3 Query/Analysis <a class=\"anchor\" name=\"1.3\"></a>\n",
    "For this part, write relevant RDD operations to answer the following queries.\n",
    "\n",
    "1.3.1 Calculate the summary of fraudulent transactions amount for each year, each month. Print the results in tabular format."
   ]
  },
  {
   "cell_type": "code",
   "execution_count": 19,
   "metadata": {},
   "outputs": [
    {
     "name": "stdout",
     "output_type": "stream",
     "text": [
      "+----+-----+-----------------------------+\n",
      "|Year|Month|Total Fraudulent Transactions|\n",
      "+----+-----+-----------------------------+\n",
      "|2020|   01|            898993.8700000001|\n",
      "|2020|   02|           1055068.6900000004|\n",
      "|2020|   03|                    864818.53|\n",
      "|2020|   04|            797646.9800000001|\n",
      "|2020|   05|            925864.7000000001|\n",
      "|2020|   06|            983224.8500000001|\n",
      "|2020|   07|            904102.0300000001|\n",
      "|2020|   08|           1031171.3300000001|\n",
      "|2020|   09|            895572.7000000003|\n",
      "|2020|   10|                    917590.31|\n",
      "|2020|   11|            876092.5300000004|\n",
      "|2020|   12|                   1047136.05|\n",
      "|2021|   01|            925229.7300000001|\n",
      "|2021|   02|            789827.0700000002|\n",
      "|2021|   03|                    892832.58|\n",
      "|2021|   04|            907938.0599999999|\n",
      "|2021|   05|                    967478.79|\n",
      "|2021|   06|                    883641.08|\n",
      "|2021|   07|            997994.1299999999|\n",
      "|2021|   08|            935016.0900000001|\n",
      "|2021|   09|                    868437.49|\n",
      "|2021|   10|           1008533.0700000001|\n",
      "|2021|   11|            789345.6999999998|\n",
      "|2021|   12|            799928.8999999998|\n",
      "|2022|   01|            897735.2500000001|\n",
      "|2022|   02|            871017.7800000003|\n",
      "|2022|   03|           1001807.6000000002|\n",
      "|2022|   04|            882859.2500000005|\n",
      "|2022|   05|            929544.4500000002|\n",
      "|2022|   06|            995504.9499999996|\n",
      "|2022|   07|                    962204.05|\n",
      "|2022|   08|            965271.5300000003|\n",
      "|2022|   09|            931044.9100000001|\n",
      "|2022|   10|            946128.9400000002|\n",
      "|2022|   11|                    996390.87|\n",
      "|2022|   12|            976878.6300000001|\n",
      "+----+-----+-----------------------------+\n",
      "\n"
     ]
    }
   ],
   "source": [
    "year_month_rdd = transactions_rdd2.filter(lambda x: int(x[3]) == 1) \\\n",
    "                                  .map(lambda row: ((row[8][:4], row[8][5:7]), float(row[2])))  # extract year month and amt with slice\n",
    "\n",
    "# group same year-month pair and aggregate their values\n",
    "fraud_summary_rdd = year_month_rdd.reduceByKey(lambda a, b: a + b) \\\n",
    "                                  .map(lambda x: (x[0][0], x[0][1], x[1]))  # flatten to make it readable\n",
    "\n",
    "fraud_summary_df = spark.createDataFrame(fraud_summary_rdd, schema=[\"Year\", \"Month\", \"Total Fraudulent Transactions\"])\n",
    "fraud_summary_df.orderBy(\"Year\", \"Month\").show(36)"
   ]
  },
  {
   "cell_type": "markdown",
   "metadata": {},
   "source": [
    "1.3.2 List 20 mechants that suffered the most from fraudulent activities(i.e. 20 highest amount of monetary loss)."
   ]
  },
  {
   "cell_type": "markdown",
   "metadata": {},
   "source": [
    "Top 20 Companies with Fraudulent Activities"
   ]
  },
  {
   "cell_type": "code",
   "execution_count": 20,
   "metadata": {},
   "outputs": [
    {
     "data": {
      "text/plain": [
       "[(\"Greenholt, O'Hara and Balistreri\", 4140.42),\n",
       " ('Kozey-Boehm', 3350.73),\n",
       " ('Labadie, Treutel and Bode', 3152.6099999999997),\n",
       " ('Kuhic LLC', 3116.01),\n",
       " ('Terry-Huel', 3058.5200000000004),\n",
       " ('Kerluke, Considine and Macejkovic', 3022.88),\n",
       " ('Nader-Heller', 2990.54),\n",
       " ('Labadie, Treutel and Bode', 2980.8599999999997),\n",
       " ('Kuhn LLC', 2903.51),\n",
       " ('Heathcote LLC', 2779.67),\n",
       " ('Weimann, Kuhic and Beahan', 2729.68),\n",
       " ('Bashirian Group', 2706.85),\n",
       " ('Little, Gutmann and Lynch', 2685.65),\n",
       " ('Hills-Witting', 2512.2200000000003),\n",
       " ('Mayert Group', 2456.3199999999997),\n",
       " ('Schmeler, Bashirian and Price', 2329.59),\n",
       " ('Zboncak, Rowe and Murazik', 2308.45),\n",
       " ('Towne, Greenholt and Koepp', 2278.31),\n",
       " ('DuBuque LLC', 2277.79),\n",
       " ('Lemke-Gutmann', 2274.36)]"
      ]
     },
     "execution_count": 20,
     "metadata": {},
     "output_type": "execute_result"
    }
   ],
   "source": [
    "# group merchant_id with fraudulent amt\n",
    "merchant_id_fraud = transactions_rdd2.filter(lambda x: int(x[3]) == 1) \\\n",
    "                    .map(lambda row: (row[6], float(row[2]))) \\\n",
    "                    .reduceByKey(lambda a, b: a + b) \n",
    "# merchant_id_fraud.take(1)\n",
    "merchant_rdd_join = merchant_rdd.map(lambda row: (row[2], row[0]))   \n",
    "top_merchant_comp = merchant_id_fraud.join(merchant_rdd_join).map(lambda x: (x[1][1], x[1][0])) \\\n",
    "                    .sortBy(lambda x: x[1], ascending=False)\n",
    "top_merchant_comp.take(20)"
   ]
  },
  {
   "cell_type": "markdown",
   "metadata": {},
   "source": [
    "## Part 2. Working with DataFrames (45%) <a class=\"anchor\" name=\"2-dataframes\"></a>\n",
    "In this section, you need to load the given datasets into PySpark DataFrames and use DataFrame functions to answer the queries.\n",
    "### 2.1 Data Preparation and Loading\n",
    "\n",
    "2.1.1. Load the CSV files into separate dataframes. When you create your dataframes, please refer to the metadata file and think about the appropriate data type for each column."
   ]
  },
  {
   "cell_type": "code",
   "execution_count": 21,
   "metadata": {},
   "outputs": [],
   "source": [
    "df_category = spark.read.format('csv')\\\n",
    "            .option('header',True).option('escape','\"')\\\n",
    "            .load('category.csv')\n",
    "\n",
    "df_customers = spark.read.format('csv')\\\n",
    "            .option('header',True).option('esacpe','\"')\\\n",
    "            .load('customers.csv')\n",
    "\n",
    "df_geolocation = spark.read.format('csv')\\\n",
    "            .option('header',True).option('esacpe','\"')\\\n",
    "            .load('geolocation.csv')\n",
    "\n",
    "df_merchant = spark.read.format('csv')\\\n",
    "            .option('header',True).option('esacpe','\"')\\\n",
    "            .load('merchant.csv')\n",
    "\n",
    "df_transactions = spark.read.format('csv')\\\n",
    "            .option('header',True).option('esacpe','\"')\\\n",
    "            .load('transactions.csv')\n",
    "# for sql\n",
    "df_category.createOrReplaceTempView(\"sql_category\")\n",
    "df_customers.createOrReplaceTempView(\"sql_customers\")\n",
    "df_geolocation.createOrReplaceTempView(\"sql_geolocation\")\n",
    "df_merchant.createOrReplaceTempView(\"sql_merchant\")\n",
    "df_transactions.createOrReplaceTempView(\"sql_transactions\")\n"
   ]
  },
  {
   "cell_type": "markdown",
   "metadata": {},
   "source": [
    "2.1.2 Display the schema of the dataframes."
   ]
  },
  {
   "cell_type": "code",
   "execution_count": 22,
   "metadata": {
    "scrolled": true
   },
   "outputs": [
    {
     "name": "stdout",
     "output_type": "stream",
     "text": [
      "root\n",
      " |-- category: string (nullable = true)\n",
      " |-- id_category: string (nullable = true)\n",
      "\n",
      "root\n",
      " |-- id_customer: string (nullable = true)\n",
      " |-- cc_num: string (nullable = true)\n",
      " |-- firstname: string (nullable = true)\n",
      " |-- lastname: string (nullable = true)\n",
      " |-- gender: string (nullable = true)\n",
      " |-- address: string (nullable = true)\n",
      " |-- job: string (nullable = true)\n",
      " |-- dob: string (nullable = true)\n",
      " |-- acct_num: string (nullable = true)\n",
      " |-- id_geolocation: string (nullable = true)\n",
      "\n",
      "root\n",
      " |-- city: string (nullable = true)\n",
      " |-- state: string (nullable = true)\n",
      " |-- zip: string (nullable = true)\n",
      " |-- lat: string (nullable = true)\n",
      " |-- long: string (nullable = true)\n",
      " |-- id_geolocation: string (nullable = true)\n",
      " |-- population: string (nullable = true)\n",
      "\n",
      "root\n",
      " |-- merchant: string (nullable = true)\n",
      " |-- id_geolocation: string (nullable = true)\n",
      " |-- id_merchant: string (nullable = true)\n",
      "\n",
      "root\n",
      " |-- id_transaction: string (nullable = true)\n",
      " |-- trans_timestamp: string (nullable = true)\n",
      " |-- amt: string (nullable = true)\n",
      " |-- is_fraud: string (nullable = true)\n",
      " |-- id_customer: string (nullable = true)\n",
      " |-- id_geolocation: string (nullable = true)\n",
      " |-- id_merchant: string (nullable = true)\n",
      " |-- id_category: string (nullable = true)\n",
      "\n"
     ]
    }
   ],
   "source": [
    "df_category.printSchema()\n",
    "df_customers.printSchema()\n",
    "df_geolocation.printSchema()\n",
    "df_merchant.printSchema()\n",
    "df_transactions.printSchema()"
   ]
  },
  {
   "cell_type": "markdown",
   "metadata": {},
   "source": [
    "Think about: When the dataset is large, do you need all columns? How to optimize memory usage? Do you need a customized data partitioning strategy? (note: You don’t need to answer these questions.)"
   ]
  },
  {
   "cell_type": "markdown",
   "metadata": {},
   "source": [
    "### 2.2 QueryAnalysis  <a class=\"anchor\" name=\"2.2\"></a>\n",
    "Implement the following queries using dataframes. You need to be able to perform operations like filtering, sorting, joining and group by using the functions provided by the DataFrame API.   \n",
    "\n",
    "2.2.1. Transform the “trans_timestamp” to multiple columns: trans_year, trans_month, trans_day, trans_hour(24-hour format). (note: you can reuse your UDF from part 1 or create a new one.)"
   ]
  },
  {
   "cell_type": "code",
   "execution_count": 23,
   "metadata": {},
   "outputs": [
    {
     "name": "stdout",
     "output_type": "stream",
     "text": [
      "+---------------+-------------------+----------+-----------+---------+----------+\n",
      "|trans_timestamp|     trans_datetime|trans_year|trans_month|trans_day|trans_hour|\n",
      "+---------------+-------------------+----------+-----------+---------+----------+\n",
      "|     1622367050|2021-05-30 09:30:50|      2021|          5|       30|         9|\n",
      "|     1609183538|2020-12-28 19:25:38|      2020|         12|       28|        19|\n",
      "|     1655595319|2022-06-18 23:35:19|      2022|          6|       18|        23|\n",
      "|     1613234460|2021-02-13 16:41:00|      2021|          2|       13|        16|\n",
      "|     1605030979|2020-11-10 17:56:19|      2020|         11|       10|        17|\n",
      "|     1608989049|2020-12-26 13:24:09|      2020|         12|       26|        13|\n",
      "|     1650997797|2022-04-26 18:29:57|      2022|          4|       26|        18|\n",
      "|     1649986601|2022-04-15 01:36:41|      2022|          4|       15|         1|\n",
      "|     1617032215|2021-03-29 15:36:55|      2021|          3|       29|        15|\n",
      "|     1609250028|2020-12-29 13:53:48|      2020|         12|       29|        13|\n",
      "|     1606693294|2020-11-29 23:41:34|      2020|         11|       29|        23|\n",
      "|     1597850241|2020-08-19 15:17:21|      2020|          8|       19|        15|\n",
      "|     1607627939|2020-12-10 19:18:59|      2020|         12|       10|        19|\n",
      "|     1605387697|2020-11-14 21:01:37|      2020|         11|       14|        21|\n",
      "|     1648971785|2022-04-03 07:43:05|      2022|          4|        3|         7|\n",
      "|     1622189742|2021-05-28 08:15:42|      2021|          5|       28|         8|\n",
      "|     1606914689|2020-12-02 13:11:29|      2020|         12|        2|        13|\n",
      "|     1588697703|2020-05-05 16:55:03|      2020|          5|        5|        16|\n",
      "|     1593727269|2020-07-02 22:01:09|      2020|          7|        2|        22|\n",
      "|     1648825723|2022-04-01 15:08:43|      2022|          4|        1|        15|\n",
      "+---------------+-------------------+----------+-----------+---------+----------+\n",
      "only showing top 20 rows\n",
      "\n"
     ]
    }
   ],
   "source": [
    "from pyspark.sql.functions import year, month, dayofmonth, hour\n",
    "from pyspark.sql.functions import col\n",
    "def convert_time(trans_timestamp): # used from RDD\n",
    "    trans_timestamp = int(trans_timestamp)\n",
    "    trans_datetime = datetime.fromtimestamp(trans_timestamp).strftime('%Y-%m-%d %H:%M:%S')\n",
    "    return trans_datetime\n",
    "\n",
    "iso_udf = udf(convert_time,StringType()) # convert to trans_datetime and then extracted each of the following: \n",
    "df_transactions = df_transactions.withColumn('trans_datetime', iso_udf('trans_timestamp'))\n",
    "df_transactions = df_transactions.withColumn('trans_year', year(col('trans_datetime'))) \\\n",
    "                                 .withColumn('trans_month', month(col('trans_datetime'))) \\\n",
    "                                 .withColumn('trans_day', dayofmonth(col('trans_datetime'))) \\\n",
    "                                 .withColumn('trans_hour', hour(col('trans_datetime')))\n",
    "df_transactions.select('trans_timestamp', 'trans_datetime','trans_year', 'trans_month', 'trans_day', 'trans_hour').show()"
   ]
  },
  {
   "cell_type": "markdown",
   "metadata": {},
   "source": [
    "2.2.2. Calculate the total amount of fraudulent transactions for each hour. Show the result in a table and plot a bar chart."
   ]
  },
  {
   "cell_type": "code",
   "execution_count": 24,
   "metadata": {},
   "outputs": [
    {
     "name": "stdout",
     "output_type": "stream",
     "text": [
      "+----------+------------------------+\n",
      "|trans_hour|total_fraud_transactions|\n",
      "+----------+------------------------+\n",
      "|         0|               155478.63|\n",
      "|         1|               285385.16|\n",
      "|         2|               421123.21|\n",
      "|         3|               397923.61|\n",
      "|         4|               382781.02|\n",
      "|         5|               450482.31|\n",
      "|         6|               413311.33|\n",
      "|         7|               429365.84|\n",
      "|         8|               446479.61|\n",
      "|         9|               419839.52|\n",
      "|        10|               409774.71|\n",
      "|        11|              5311654.56|\n",
      "|        12|           1.021415001E7|\n",
      "|        13|              5993048.91|\n",
      "|        14|               1837859.1|\n",
      "|        15|              1911326.17|\n",
      "|        16|              1886629.17|\n",
      "|        17|               1078952.7|\n",
      "|        18|               144630.06|\n",
      "|        19|               151641.65|\n",
      "|        20|               142994.57|\n",
      "|        21|               148930.09|\n",
      "|        22|               137877.72|\n",
      "|        23|               148233.81|\n",
      "+----------+------------------------+\n",
      "\n"
     ]
    }
   ],
   "source": [
    "import pyspark.sql.functions as F\n",
    "from pyspark.sql.functions import round # round transaction 2 dec places\n",
    "df_transactions_fraud = df_transactions.filter(col('is_fraud') == 1)\n",
    "agg_attribute = 'trans_hour'\n",
    "df_total = df_transactions_fraud.groupBy(agg_attribute) \\\n",
    "                .agg(F.round(F.sum('amt'), 2).alias('total_fraud_transactions')) \\\n",
    "                .orderBy('trans_hour')\n",
    "df_total.show(24)"
   ]
  },
  {
   "cell_type": "code",
   "execution_count": 25,
   "metadata": {},
   "outputs": [],
   "source": [
    "df_total= df_total.toPandas()"
   ]
  },
  {
   "cell_type": "code",
   "execution_count": 26,
   "metadata": {},
   "outputs": [
    {
     "data": {
      "image/png": "[encoded data removed]",
      "text/plain": [
       "<Figure size 1000x500 with 1 Axes>"
      ]
     },
     "metadata": {},
     "output_type": "display_data"
    }
   ],
   "source": [
    "import matplotlib.pyplot as plt\n",
    "import seaborn as sns\n",
    "plt.figure(figsize=(10, 5))\n",
    "sns.barplot(x='trans_hour', y='total_fraud_transactions', data=df_total)\n",
    "plt.xlabel('Hour')\n",
    "plt.ylabel('Total Fraud Transactions')\n",
    "plt.title('Total Amount of Hourly Fraudulent Transactions')\n",
    "plt.ticklabel_format(style='plain', axis='y')\n",
    "plt.grid(True)\n",
    "plt.show()"
   ]
  },
  {
   "cell_type": "markdown",
   "metadata": {},
   "source": [
    "2.2.3 Print number of small transactions(<=$100) from female who was born after 1990. "
   ]
  },
  {
   "cell_type": "code",
   "execution_count": 27,
   "metadata": {},
   "outputs": [
    {
     "name": "stdout",
     "output_type": "stream",
     "text": [
      "+-----------+--------------------------------+-----+------+----------+\n",
      "|id_customer|id_transaction                  |amt  |gender|dob       |\n",
      "+-----------+--------------------------------+-----+------+----------+\n",
      "|432-36-7641|87ffe1a28514f81d8a399ebb523fc172|42.76|F     |1997-03-13|\n",
      "|885-90-9940|40bc65185e4223accf1b587996a47a7e|31.13|F     |1996-05-03|\n",
      "|880-84-9515|eb31de96994dfc47316563228746c610|31.45|F     |1995-09-06|\n",
      "|059-25-1047|4ee776b0530d9899464c70b35cea3e67|2.4  |F     |1997-05-25|\n",
      "|432-36-7641|393a4a312eb7b72e6612d256dd87772e|34.87|F     |1997-03-13|\n",
      "|779-54-6256|93d7eafcdc6afa598af9fc272559f4bd|67.25|F     |1995-07-11|\n",
      "|358-05-7479|bafead5ae158168e26f3de6f679f2edf|11.2 |F     |1998-12-09|\n",
      "|254-38-4406|0eb2677f06b4fdae54c61a083416774f|84.25|F     |1992-08-23|\n",
      "|760-26-8955|fd399537db08312086f168ecdbd40f6e|53.36|F     |1999-04-22|\n",
      "|773-96-5045|bdc1a6f9c27c013d29c5cfa799a9eb85|4.0  |F     |1991-10-28|\n",
      "|565-74-0730|35be5debcafd7b2ab3b5c7846c280e0e|45.46|F     |1993-03-12|\n",
      "|199-77-8924|772bfbfa3aa9c318ba8541a356f010f0|3.77 |F     |1992-12-07|\n",
      "|849-62-8704|1e943058a07f7b62baf076f9b3cae538|51.06|F     |1997-08-24|\n",
      "|773-96-5045|fdc6322a3369f66317a03bb65aa66baf|38.25|F     |1991-10-28|\n",
      "|110-25-0751|0dbeae55c856846da6c6afc44d6ecf33|51.28|F     |1996-04-22|\n",
      "|333-15-3404|5cf37adc5f8aa6a12cac07f64aa6fdf0|71.48|F     |1995-08-15|\n",
      "|814-98-4425|4e99cd32d00dbd2cb58861b298bf12ef|39.85|F     |1993-02-08|\n",
      "|675-85-2655|9e6d2fd7b66866711bf7757514a06dcf|7.0  |F     |1993-11-11|\n",
      "|306-92-9068|71b48e69f23aae52e225cc94be5befad|9.43 |F     |1991-07-23|\n",
      "|421-17-3958|0f7638dcbda58a1384da7f2c5099b6ae|26.26|F     |1996-07-10|\n",
      "+-----------+--------------------------------+-----+------+----------+\n",
      "only showing top 20 rows\n",
      "\n"
     ]
    }
   ],
   "source": [
    "df_transactions_female = (df_transactions.join(df_customers, on='id_customer', how='inner')\n",
    "                          .withColumn('dob_year', F.year(F.to_date(F.col('dob'), 'yyyy-MM-dd')))\n",
    "                          .filter((F.col('amt') <= 100) &  \n",
    "                                  (F.col('gender') == 'F') &  \n",
    "                                  (F.col('dob_year') > 1990))\n",
    "                         )\n",
    "df_transactions_female.select('id_customer','id_transaction', 'amt', 'gender', 'dob').show(truncate=False)"
   ]
  },
  {
   "cell_type": "markdown",
   "metadata": {},
   "source": [
    "2.2.4 We consider a fraud-to-sales(F2S) ratio of 3% as a benchmark. If a merchant has F2S >= 3%, it is considered operating at very high rick. How many companies are operating at very high risk? (note: The answer should be a single number.)"
   ]
  },
  {
   "cell_type": "code",
   "execution_count": 28,
   "metadata": {},
   "outputs": [
    {
     "data": {
      "text/plain": [
       "250"
      ]
     },
     "execution_count": 28,
     "metadata": {},
     "output_type": "execute_result"
    }
   ],
   "source": [
    "transaction_merchant = df_transactions.join(df_merchant, on='id_merchant', how='inner')\n",
    "agg_attribute = 'merchant'\n",
    "merchant_trans = transaction_merchant.groupBy(agg_attribute)\\\n",
    "                    .agg(F.sum('amt').alias('total_transactions'),\n",
    "                         F.sum(F.when(F.col('is_fraud') == 1,\n",
    "                                      F.col('amt')).otherwise(0)).alias('fraud_transactions')\n",
    "    )\n",
    "high_risk_companies = merchant_trans.withColumn('F2S_ratio', F.col('fraud_transactions') / F.col('total_transactions')) \\\n",
    "                                    .filter(F.col('F2S_ratio') >= 0.03)\n",
    "high_risk_companies.count()"
   ]
  },
  {
   "cell_type": "markdown",
   "metadata": {},
   "source": [
    "2.2.5 “Abbott and Adam Group” wants to know their total revenue(sum of non-fraud amt) in each state they operate, show the top 20 results by revenue in descending order. You output should include merchant name, state and total revenue. (note: Abbott and Adam group include all merchants who name start with “Abbott” or “Adam”.)"
   ]
  },
  {
   "cell_type": "code",
   "execution_count": 29,
   "metadata": {},
   "outputs": [
    {
     "name": "stdout",
     "output_type": "stream",
     "text": [
      "+--------------------------+-----+------------------+\n",
      "|merchant                  |state|total_revenue     |\n",
      "+--------------------------+-----+------------------+\n",
      "|Abbott-Rogahn             |CA   |352865.97000000003|\n",
      "|Adams, Kovacek and Kuhlman|CA   |279898.79         |\n",
      "|Adams-Barrows             |CA   |278485.79         |\n",
      "|Abbott-Rogahn             |TX   |247959.90999999992|\n",
      "|Adams-Barrows             |TX   |199538.57         |\n",
      "|Adams, Kovacek and Kuhlman|TX   |187685.37         |\n",
      "|Abbott-Rogahn             |NY   |182627.70999999996|\n",
      "|Abbott-Rogahn             |FL   |178579.29000000007|\n",
      "|Adams, Kovacek and Kuhlman|NY   |155427.12         |\n",
      "|Adams-Barrows             |FL   |154059.63999999998|\n",
      "|Adams, Kovacek and Kuhlman|FL   |150222.34999999998|\n",
      "|Adams-Barrows             |NY   |145255.90000000002|\n",
      "|Abbott-Rogahn             |IL   |119764.72000000002|\n",
      "|Abbott-Rogahn             |PA   |118146.56         |\n",
      "|Abbott-Rogahn             |OH   |105306.52000000002|\n",
      "|Adams, Kovacek and Kuhlman|PA   |99076.16999999998 |\n",
      "|Adams, Kovacek and Kuhlman|OH   |98207.81999999998 |\n",
      "|Abbott-Rogahn             |GA   |97967.02          |\n",
      "|Adams, Kovacek and Kuhlman|NC   |97072.05          |\n",
      "|Abbott-Rogahn             |MI   |93076.10999999999 |\n",
      "+--------------------------+-----+------------------+\n",
      "only showing top 20 rows\n",
      "\n"
     ]
    }
   ],
   "source": [
    "abbott_adam = df_merchant.filter((F.col('merchant').startswith('Abbott')) | \n",
    "                                  (F.col('merchant').startswith('Adam')))\n",
    "df_nonfraud_transactions = df_transactions.filter(F.col('is_fraud') == 0)\n",
    "# abbott_adam.show()\n",
    "df_revenue = df_nonfraud_transactions.join(abbott_adam, on='id_merchant', how='inner') \\\n",
    "                .join(df_geolocation, on='id_geolocation', how='left') \\\n",
    "                .groupBy('merchant', 'state') \\\n",
    "                .agg(F.sum('amt').alias('total_revenue')) \\\n",
    "                .orderBy(F.col('total_revenue').desc())\n",
    "df_revenue.show(20, truncate=False)"
   ]
  },
  {
   "cell_type": "markdown",
   "metadata": {},
   "source": [
    "2.2.6 For each year (2020-2022), aggregate the number(count) of fraudulent transactions every hour. Plot an appropriate figure and observe the trend. Write your observations from your plot (e.g. Is fraudulent activities increasing or decreasing? Are those frauds more active after midnight or during business hours?)."
   ]
  },
  {
   "cell_type": "code",
   "execution_count": 30,
   "metadata": {},
   "outputs": [
    {
     "name": "stdout",
     "output_type": "stream",
     "text": [
      "+----------+----------+-----------+\n",
      "|trans_year|trans_hour|fraud_count|\n",
      "+----------+----------+-----------+\n",
      "|      2022|        10|        207|\n",
      "|      2021|        17|        986|\n",
      "|      2021|        22|        126|\n",
      "|      2021|        19|        137|\n",
      "|      2020|        13|       3463|\n",
      "|      2022|         0|        145|\n",
      "|      2022|        18|        135|\n",
      "|      2022|        17|       1043|\n",
      "|      2020|         6|        201|\n",
      "|      2022|        19|        138|\n",
      "|      2022|        14|       1813|\n",
      "|      2021|         8|        202|\n",
      "|      2021|         6|        205|\n",
      "|      2021|         5|        227|\n",
      "|      2021|        16|       1703|\n",
      "|      2020|        14|       1891|\n",
      "|      2021|        10|        200|\n",
      "|      2020|        11|       2664|\n",
      "|      2020|         3|        227|\n",
      "|      2020|         9|        186|\n",
      "+----------+----------+-----------+\n",
      "only showing top 20 rows\n",
      "\n"
     ]
    }
   ],
   "source": [
    "df_fraud = df_transactions.filter(\n",
    "    (F.col('trans_year').between(2020, 2022)) & \n",
    "    (F.col('is_fraud') == 1))\n",
    "df_fraud_counts = df_fraud.groupBy('trans_year', 'trans_hour').agg(F.count('is_fraud').alias('fraud_count'))\n",
    "df_fraud_counts.show()"
   ]
  },
  {
   "cell_type": "code",
   "execution_count": 31,
   "metadata": {},
   "outputs": [],
   "source": [
    "df_fraud_counts_pd = df_fraud_counts.toPandas() # convert to pandas dataframe to plot. "
   ]
  },
  {
   "cell_type": "code",
   "execution_count": 32,
   "metadata": {},
   "outputs": [
    {
     "data": {
      "image/png": "[encoded data removed]",
      "text/plain": [
       "<Figure size 1000x500 with 1 Axes>"
      ]
     },
     "metadata": {},
     "output_type": "display_data"
    }
   ],
   "source": [
    "import matplotlib.pyplot as plt\n",
    "import seaborn as sns\n",
    "\n",
    "plt.figure(figsize=(10,5))\n",
    "sns.lineplot(data=df_fraud_counts_pd, x='trans_hour', y='fraud_count', hue='trans_year', palette='tab10')\n",
    "plt.title('Fraud Transactions per Hour (2020-2022)')\n",
    "plt.xlabel('Transaction Hour')\n",
    "plt.ylabel('Fraud Count')\n",
    "plt.xticks(range(0, 24))  \n",
    "plt.grid(True)\n",
    "plt.legend(title='Year')\n",
    "plt.show()"
   ]
  },
  {
   "cell_type": "markdown",
   "metadata": {},
   "source": [
    "We can observe across all the three years, fraudulent transactions gradually increase from 10am, peaking at midday. This suggests most fradulent transactions are taking advantage of people during business hours. This is further supported by a gradual decrease in fraud activities in the afternoon until night where most people are not active. Furthermore, the similar patterns across the years indicate there has not been a significant change in the timing of fraudulent activities. "
   ]
  },
  {
   "cell_type": "markdown",
   "metadata": {},
   "source": [
    "### Part 3 RDDs vs DataFrame vs Spark SQL (25%) <a class=\"anchor\" name=\"part-3\"></a>\n",
    "Implement the following queries using RDDs, DataFrame in SparkSQL separately. Log the  time taken for each query in each approach using the “%%time” built-in magic command in Jupyter Notebook and discuss the performance difference between these 3 approaches."
   ]
  },
  {
   "cell_type": "markdown",
   "metadata": {},
   "source": [
    "#### Query: <strong>We consider city with population < 50K as small(denoted as S); 50K-200K as medium(M), >200K as large(L). For each city type, using customer age bucket of 10(e.g. 0-9, 10-19, 20-29…), show the percentage ratio of fraudulent transactions in each age bucket.</strong>"
   ]
  },
  {
   "cell_type": "markdown",
   "metadata": {},
   "source": [
    "#### 3.1. RDD Implementation"
   ]
  },
  {
   "cell_type": "code",
   "execution_count": 67,
   "metadata": {},
   "outputs": [
    {
     "name": "stdout",
     "output_type": "stream",
     "text": [
      "CPU times: user 11.6 ms, sys: 2.26 ms, total: 13.9 ms\n",
      "Wall time: 190 ms\n"
     ]
    },
    {
     "data": {
      "text/plain": [
       "[['Burkeville', 'TX', '75932', '31.0099', '-93.6585', '1', '1437', 'S'],\n",
       " ['Fresno', 'TX', '77545', '29.5293', '-95.4626', '2', '19431', 'S'],\n",
       " ['Osseo', 'MN', '55311', '45.1243', '-93.4996', '3', '65312', 'M']]"
      ]
     },
     "execution_count": 67,
     "metadata": {},
     "output_type": "execute_result"
    }
   ],
   "source": [
    "%%time\n",
    "def city_population_rdd(row):\n",
    "    population = int(row[6])\n",
    "    if population < 50000:\n",
    "        city_size = 'S'\n",
    "    elif population <= 200000:\n",
    "        city_size = 'M'\n",
    "    elif population > 200000:\n",
    "        city_size = 'L'\n",
    "    else:\n",
    "        None\n",
    "    return row + [city_size]\n",
    "\n",
    "geolocation_rdd2 = geolocation_rdd.map(city_population_rdd)\n",
    "geolocation_rdd2.take(3)"
   ]
  },
  {
   "cell_type": "code",
   "execution_count": 68,
   "metadata": {},
   "outputs": [
    {
     "name": "stdout",
     "output_type": "stream",
     "text": [
      "CPU times: user 5.97 ms, sys: 4.02 ms, total: 9.99 ms\n",
      "Wall time: 142 ms\n"
     ]
    },
    {
     "data": {
      "text/plain": [
       "[['263-99-6044',\n",
       "  'F',\n",
       "  'Risk manager',\n",
       "  '2005-05-30',\n",
       "  '376443331852',\n",
       "  '6339',\n",
       "  19],\n",
       " ['292-61-7844',\n",
       "  'M',\n",
       "  'Trading standards officer',\n",
       "  '2003-04-19',\n",
       "  '870143739098',\n",
       "  '6200',\n",
       "  21],\n",
       " ['491-28-3311', 'F', 'Optometrist', '2002-04-17', '965855026307', '3547', 22]]"
      ]
     },
     "execution_count": 68,
     "metadata": {},
     "output_type": "execute_result"
    }
   ],
   "source": [
    "%%time\n",
    "from datetime import datetime, date\n",
    "from pyspark.sql.types import IntegerType, StringType\n",
    "\n",
    "def age_rdd(row):\n",
    "    dob = row[3]\n",
    "    dob_date = datetime.strptime(dob, \"%Y-%m-%d\").date()\n",
    "    today = date.today()\n",
    "    age = today.year - dob_date.year - ((today.month, today.day) < (dob_date.month, dob_date.day))\n",
    "    return row + [age]\n",
    "\n",
    "customers_rdd_new2 = customers_rdd_new.map(age_rdd)\n",
    "customers_rdd_new2.take(3)"
   ]
  },
  {
   "cell_type": "code",
   "execution_count": 35,
   "metadata": {},
   "outputs": [
    {
     "name": "stdout",
     "output_type": "stream",
     "text": [
      "CPU times: user 16 µs, sys: 0 ns, total: 16 µs\n",
      "Wall time: 17.9 µs\n"
     ]
    }
   ],
   "source": [
    "%%time\n",
    "def age_bucket_rdd(row):\n",
    "    age = int(row[6])\n",
    "    if age < 10:\n",
    "        age_bucket = '0-9'\n",
    "    elif 10 <= age < 20:\n",
    "        age_bucket = '10-19'\n",
    "    elif 20 <= age < 30:\n",
    "        age_bucket = '20-29'\n",
    "    elif 30 <= age < 40:\n",
    "        age_bucket = '30-39'\n",
    "    elif 40 <= age < 50:\n",
    "        age_bucket = '40-49'\n",
    "    elif 50 <= age < 60:\n",
    "        age_bucket = '50-59'\n",
    "    elif 60 <= age < 70:\n",
    "        age_bucket = '60-69'\n",
    "    elif 70 <= age < 80:\n",
    "        age_bucket = '70-79'\n",
    "    elif 80 <= age < 90:\n",
    "        age_bucket = '80-89'\n",
    "    elif age >= 90:\n",
    "        age_bucket = '90+'\n",
    "    else:\n",
    "        age_bucket = None  \n",
    "    return row + [age_bucket]\n",
    "\n",
    "customers_rdd_new3 = customers_rdd_new2.map(age_bucket_rdd)\n",
    "# customers_rdd_new3.take(11)"
   ]
  },
  {
   "cell_type": "code",
   "execution_count": 36,
   "metadata": {},
   "outputs": [],
   "source": [
    "customers_geoid = customers_rdd_new3.map(lambda row: (row[5], row)) \n",
    "geolocation_geoid = geolocation_rdd2.map(lambda row: (row[5], row))\n",
    "customer_geo_rdd = customers_geoid.join(geolocation_geoid).map(lambda x: x[1][0] + x[1][1])\n",
    "# customer_geo_rdd.take(50)"
   ]
  },
  {
   "cell_type": "code",
   "execution_count": 37,
   "metadata": {},
   "outputs": [],
   "source": [
    "transactions_custid_rdd = transactions_rdd.map(lambda row: (row[4], row))\n",
    "customer_geo_custid_rdd = customer_geo_rdd.map(lambda row: (row[0],row))\n",
    "customer_geo_custid_rdd = transactions_custid_rdd.join(customer_geo_custid_rdd) \\\n",
    "                            .map(lambda row: row[1][0] + row[1][1])\n",
    "# customer_geo_custid_rdd.take(10)"
   ]
  },
  {
   "cell_type": "code",
   "execution_count": 38,
   "metadata": {},
   "outputs": [
    {
     "name": "stdout",
     "output_type": "stream",
     "text": [
      "CPU times: user 7.38 ms, sys: 2.26 ms, total: 9.64 ms\n",
      "Wall time: 22.1 ms\n"
     ]
    }
   ],
   "source": [
    "%%time\n",
    "\n",
    "total_transactions_rdd = customer_geo_custid_rdd.map(lambda row: ((row[15], row[23]), 1)) \\\n",
    "                            .reduceByKey(lambda x, y: x + y)\n",
    "# total_transactions_rdd.take(20)\n",
    "\n",
    "fraud_transactions_rdd = customer_geo_custid_rdd.filter(lambda row: row[3] == '1') \\\n",
    "                            .map(lambda row:  ((row[15], row[23]), 1)) \\\n",
    "                            .reduceByKey(lambda x, y: x + y)\n",
    "# fraud_transactions_rdd = fraud_transactions_agg.collect()\n",
    "#fraud_transactions_rdd.take(20)\n",
    "fraud_ratio_rdd = total_transactions_rdd.join(fraud_transactions_rdd)"
   ]
  },
  {
   "cell_type": "code",
   "execution_count": 39,
   "metadata": {},
   "outputs": [
    {
     "name": "stdout",
     "output_type": "stream",
     "text": [
      "CPU times: user 2.25 ms, sys: 1.96 ms, total: 4.2 ms\n",
      "Wall time: 6.54 ms\n"
     ]
    }
   ],
   "source": [
    "%%time\n",
    "\n",
    "fraud_ratio_rdd = total_transactions_rdd.join(fraud_transactions_rdd) \\\n",
    "                    .map(lambda row: [row[0][0], row[0][1], row[1][0], row[1][1]])\n",
    "# fraud_ratio_rdd.take(20)"
   ]
  },
  {
   "cell_type": "code",
   "execution_count": 61,
   "metadata": {},
   "outputs": [
    {
     "name": "stdout",
     "output_type": "stream",
     "text": [
      "CPU times: user 38 ms, sys: 12.8 ms, total: 50.7 ms\n",
      "Wall time: 7.62 s\n"
     ]
    },
    {
     "data": {
      "text/plain": [
       "[['80-89', 'L', 186354, 922, 0.4947572898891357],\n",
       " ['90+', 'S', 229163, 994, 0.4337523945837679],\n",
       " ['90+', 'L', 148187, 642, 0.4332363837583593],\n",
       " ['60-69', 'S', 1020474, 4410, 0.432152117545376],\n",
       " ['60-69', 'M', 614754, 2640, 0.429440068710411],\n",
       " ['50-59', 'L', 883346, 3783, 0.42825800988514123],\n",
       " ['70-79', 'M', 384503, 1638, 0.4260044785086202],\n",
       " ['60-69', 'L', 648874, 2760, 0.425352225547641],\n",
       " ['70-79', 'L', 340208, 1442, 0.42385834548276347],\n",
       " ['70-79', 'S', 598931, 2504, 0.41807820934297946],\n",
       " ['50-59', 'M', 799418, 3268, 0.40879740010857896],\n",
       " ['90+', 'M', 121939, 495, 0.40594067525566063],\n",
       " ['50-59', 'S', 1558093, 6163, 0.39554763419128386],\n",
       " ['80-89', 'S', 385514, 1499, 0.38883153400395315],\n",
       " ['80-89', 'M', 273786, 884, 0.322879913509091],\n",
       " ['30-39', 'S', 2527715, 5087, 0.20124895409490393],\n",
       " ['20-29', 'S', 1290081, 2584, 0.20029750069956845],\n",
       " ['40-49', 'M', 1600044, 3101, 0.19380717030281666],\n",
       " ['30-39', 'L', 1560881, 2988, 0.1914303524740195],\n",
       " ['40-49', 'L', 1780884, 3359, 0.18861419384979594],\n",
       " ['20-29', 'L', 785073, 1471, 0.1873711107119975],\n",
       " ['40-49', 'S', 2863639, 5363, 0.1872791926636004],\n",
       " ['20-29', 'M', 745425, 1358, 0.18217795217493377],\n",
       " ['30-39', 'M', 1602549, 2911, 0.18164811185180607]]"
      ]
     },
     "execution_count": 61,
     "metadata": {},
     "output_type": "execute_result"
    }
   ],
   "source": [
    "%%time\n",
    "def calculate_fraud_ratio_rdd(row):\n",
    "    total_transactions = row[2]\n",
    "    fraudulent_transactions =  row[3]\n",
    "    fraud_perc_ratio = (fraudulent_transactions / total_transactions) * 100\n",
    "    return row + [fraud_perc_ratio]\n",
    "\n",
    "fraud_ratio_rdd2 = fraud_ratio_rdd.map(calculate_fraud_ratio_rdd).sortBy(lambda x: x[4], ascending=False).collect()\n",
    "fraud_ratio_rdd2"
   ]
  },
  {
   "cell_type": "markdown",
   "metadata": {},
   "source": [
    "#### 3.2. DataFrame Implementation"
   ]
  },
  {
   "cell_type": "code",
   "execution_count": 66,
   "metadata": {},
   "outputs": [
    {
     "name": "stdout",
     "output_type": "stream",
     "text": [
      "+----------+-----+-----+-------+--------+--------------+----------+---------+\n",
      "|      city|state|  zip|    lat|    long|id_geolocation|population|city_size|\n",
      "+----------+-----+-----+-------+--------+--------------+----------+---------+\n",
      "|Burkeville|   TX|75932|31.0099|-93.6585|             1|      1437|        S|\n",
      "|    Fresno|   TX|77545|29.5293|-95.4626|             2|     19431|        S|\n",
      "|     Osseo|   MN|55311|45.1243|-93.4996|             3|     65312|        M|\n",
      "+----------+-----+-----+-------+--------+--------------+----------+---------+\n",
      "only showing top 3 rows\n",
      "\n",
      "CPU times: user 9.05 ms, sys: 2.98 ms, total: 12 ms\n",
      "Wall time: 195 ms\n"
     ]
    }
   ],
   "source": [
    "%%time\n",
    "from pyspark.sql.functions import udf\n",
    "from pyspark.sql.types import StringType\n",
    "\n",
    "def city_population_df(population):\n",
    "    population = int(population)\n",
    "    if population < 50000:\n",
    "        city_size = 'S'\n",
    "    elif population <= 200000:\n",
    "        city_size = 'M'\n",
    "    elif population > 200000:\n",
    "        city_size = 'L'\n",
    "    else:\n",
    "        None\n",
    "    return city_size\n",
    "\n",
    "city_population_udf = udf(city_population_df, StringType())\n",
    "df_geolocation2 = df_geolocation.withColumn('city_size', city_population_udf('population'))\n",
    "df_geolocation2.show(3)"
   ]
  },
  {
   "cell_type": "code",
   "execution_count": 43,
   "metadata": {},
   "outputs": [
    {
     "name": "stdout",
     "output_type": "stream",
     "text": [
      "+-----------+---------------------------+----------+--------------+---+\n",
      "|id_customer|address                    |dob       |id_geolocation|age|\n",
      "+-----------+---------------------------+----------+--------------+---+\n",
      "|263-99-6044|058 Stanley Cliff          |2005-05-30|6339          |19 |\n",
      "|292-61-7844|413 Angela Mall            |2003-04-19|6200          |21 |\n",
      "|491-28-3311|5712 Tamara Estate         |2002-04-17|3547          |22 |\n",
      "|826-23-1754|1016 Bennett Mountains     |2001-07-15|6302          |23 |\n",
      "|172-11-9264|819 Joseph Plains Suite 807|2003-11-21|5227          |20 |\n",
      "+-----------+---------------------------+----------+--------------+---+\n",
      "only showing top 5 rows\n",
      "\n",
      "CPU times: user 6.85 ms, sys: 1.84 ms, total: 8.69 ms\n",
      "Wall time: 156 ms\n"
     ]
    }
   ],
   "source": [
    "%%time\n",
    "from datetime import datetime, date\n",
    "from pyspark.sql.types import IntegerType, StringType\n",
    "\n",
    "def age(dob):\n",
    "    dob_date = datetime.strptime(dob, \"%Y-%m-%d\").date()\n",
    "    today = date.today()\n",
    "    return today.year - dob_date.year - ((today.month, today.day) < (dob_date.month, dob_date.day))\n",
    "\n",
    "age_udf = udf(age, IntegerType())\n",
    "# df_customers.select('dob',age_udf('dob').alias(\"age\")).show(5)\n",
    "df_customers2 = df_customers.withColumn('age', age_udf('dob'))\n",
    "df_customers2.select('id_customer', 'address', 'dob', 'id_geolocation', 'age').show(5, truncate= False)"
   ]
  },
  {
   "cell_type": "code",
   "execution_count": 44,
   "metadata": {},
   "outputs": [
    {
     "name": "stdout",
     "output_type": "stream",
     "text": [
      "CPU times: user 3.9 ms, sys: 0 ns, total: 3.9 ms\n",
      "Wall time: 9.51 ms\n"
     ]
    }
   ],
   "source": [
    "%%time\n",
    "def age_bucket_df(age):\n",
    "    age = int(age)\n",
    "    if age < 10:\n",
    "        age_bucket = '0-9'\n",
    "    elif 10 <= age < 20:\n",
    "        age_bucket = '10-19'\n",
    "    elif 20 <= age < 30:\n",
    "        age_bucket = '20-29'\n",
    "    elif 30 <= age < 40:\n",
    "        age_bucket = '30-39'\n",
    "    elif 40 <= age < 50:\n",
    "        age_bucket = '40-49'\n",
    "    elif 50 <= age < 60:\n",
    "        age_bucket = '50-59'\n",
    "    elif 60 <= age < 70:\n",
    "        age_bucket = '60-69'\n",
    "    elif 70 <= age < 80:\n",
    "        age_bucket = '70-79'\n",
    "    elif 80 <= age < 90:\n",
    "        age_bucket = '80-89'\n",
    "    elif age >= 90:\n",
    "        age_bucket = '90+'\n",
    "    else:\n",
    "        age_bucket = None  \n",
    "    return age_bucket\n",
    "\n",
    "age_bucket_udf = udf(age_bucket_df, StringType())\n",
    "df_customers3 = df_customers2.withColumn('age_bucket', age_bucket_udf('age'))\n",
    "# df_customers3.show(5, truncate=False)"
   ]
  },
  {
   "cell_type": "markdown",
   "metadata": {},
   "source": [
    "Join geolocation and customer together, and then join with transaction on customer id. "
   ]
  },
  {
   "cell_type": "code",
   "execution_count": 45,
   "metadata": {
    "scrolled": true
   },
   "outputs": [
    {
     "name": "stdout",
     "output_type": "stream",
     "text": [
      "+-----------+----------+---------+--------------------------------+--------+\n",
      "|id_customer|age_bucket|city_size|id_transaction                  |is_fraud|\n",
      "+-----------+----------+---------+--------------------------------+--------+\n",
      "|037-51-6398|50-59     |S        |d209a21733dbb5343402e40a5b185ba9|0       |\n",
      "|124-79-3406|20-29     |L        |c38fe9a2ce0225610b42d211ff98731e|0       |\n",
      "|160-40-2465|60-69     |S        |26214be045a22c418c0bb18776be3bad|0       |\n",
      "|160-40-2465|60-69     |S        |19874f165d861dec14f4551d3ede0eb7|0       |\n",
      "|177-53-4118|30-39     |S        |724fb22cd87a92defc06e691c8febd54|0       |\n",
      "+-----------+----------+---------+--------------------------------+--------+\n",
      "only showing top 5 rows\n",
      "\n",
      "CPU times: user 3.33 ms, sys: 1.86 ms, total: 5.18 ms\n",
      "Wall time: 562 ms\n"
     ]
    }
   ],
   "source": [
    "%%time\n",
    "df_customers_geo = df_customers3.join(df_geolocation2, on='id_geolocation', how='left')\n",
    "# df_customers_geo.select('id_geolocation', 'id_customer', 'age_bucket', 'city_size').show(10,truncate=False)\n",
    "df_transactions_age = df_transactions.join(df_customers_geo, on='id_customer', how='left')\n",
    "df_transactions_age.select('id_customer', 'age_bucket', \n",
    "                        'city_size', 'id_transaction','is_fraud').show(5,truncate=False)\n"
   ]
  },
  {
   "cell_type": "code",
   "execution_count": 46,
   "metadata": {},
   "outputs": [
    {
     "name": "stdout",
     "output_type": "stream",
     "text": [
      "+----------+---------+------------------+\n",
      "|age_bucket|city_size|total_transactions|\n",
      "+----------+---------+------------------+\n",
      "|     80-89|        S|            385514|\n",
      "|     50-59|        S|           1558093|\n",
      "|     50-59|        L|            883346|\n",
      "|     40-49|        S|           2863639|\n",
      "|     30-39|        L|           1560881|\n",
      "|     70-79|        M|            384503|\n",
      "|     30-39|        M|           1602549|\n",
      "|     40-49|        L|           1780884|\n",
      "|       90+|        L|            148187|\n",
      "|     70-79|        S|            598931|\n",
      "|       90+|        M|            121939|\n",
      "|     20-29|        S|           1290081|\n",
      "|     70-79|        L|            340208|\n",
      "|     40-49|        M|           1600044|\n",
      "|     50-59|        M|            799418|\n",
      "|     20-29|        L|            785073|\n",
      "|     60-69|        S|           1020474|\n",
      "|     30-39|        S|           2527715|\n",
      "|     80-89|        L|            186354|\n",
      "|     60-69|        L|            648874|\n",
      "+----------+---------+------------------+\n",
      "only showing top 20 rows\n",
      "\n",
      "CPU times: user 13.6 ms, sys: 2.39 ms, total: 16 ms\n",
      "Wall time: 10.4 s\n"
     ]
    }
   ],
   "source": [
    "%%time\n",
    "df_total_transactions = df_transactions_age.groupBy('age_bucket', 'city_size').agg(\n",
    "    F.count('id_transaction').alias('total_transactions'))\n",
    "\n",
    "df_fraud_transactions = df_transactions_age.filter(F.col('is_fraud') == 1).groupBy('age_bucket', 'city_size').agg(\n",
    "    F.count('*').alias('fraudulent_transactions'))\n",
    "\n",
    "df_total_transactions.show()\n",
    "# df_fraud_transactions.show()"
   ]
  },
  {
   "cell_type": "code",
   "execution_count": 47,
   "metadata": {},
   "outputs": [
    {
     "name": "stdout",
     "output_type": "stream",
     "text": [
      "+----------+---------+------------------+-----------------------+\n",
      "|age_bucket|city_size|total_transactions|fraudulent_transactions|\n",
      "+----------+---------+------------------+-----------------------+\n",
      "|     80-89|        S|            385514|                   1499|\n",
      "|     50-59|        S|           1558093|                   6163|\n",
      "|     50-59|        L|            883346|                   3783|\n",
      "|     40-49|        S|           2863639|                   5363|\n",
      "|     30-39|        L|           1560881|                   2988|\n",
      "|     70-79|        M|            384503|                   1638|\n",
      "|     30-39|        M|           1602549|                   2911|\n",
      "|     40-49|        L|           1780884|                   3359|\n",
      "|       90+|        L|            148187|                    642|\n",
      "|     70-79|        S|            598931|                   2504|\n",
      "|       90+|        M|            121939|                    495|\n",
      "|     20-29|        S|           1290081|                   2584|\n",
      "|     70-79|        L|            340208|                   1442|\n",
      "|     40-49|        M|           1600044|                   3101|\n",
      "|     50-59|        M|            799418|                   3268|\n",
      "|     20-29|        L|            785073|                   1471|\n",
      "|     60-69|        S|           1020474|                   4410|\n",
      "|     30-39|        S|           2527715|                   5087|\n",
      "|     80-89|        L|            186354|                    922|\n",
      "|     60-69|        L|            648874|                   2760|\n",
      "+----------+---------+------------------+-----------------------+\n",
      "only showing top 20 rows\n",
      "\n"
     ]
    }
   ],
   "source": [
    "df_fraud_ratio = df_total_transactions.join(df_fraud_transactions,on=['age_bucket', 'city_size'],how='left')\n",
    "df_fraud_ratio.show()"
   ]
  },
  {
   "cell_type": "markdown",
   "metadata": {},
   "source": [
    "Created udf that calcaults fraud ratio percentage and applied to the joined dataframes. Sorted output by highest fraud percentage ratio."
   ]
  },
  {
   "cell_type": "code",
   "execution_count": 48,
   "metadata": {
    "scrolled": false
   },
   "outputs": [
    {
     "name": "stdout",
     "output_type": "stream",
     "text": [
      "+----------+---------+------------------+-----------------------+-------------------+\n",
      "|age_bucket|city_size|total_transactions|fraudulent_transactions|fraud_perc_ratio   |\n",
      "+----------+---------+------------------+-----------------------+-------------------+\n",
      "|80-89     |L        |186354            |922                    |0.4947572898891357 |\n",
      "|90+       |S        |229163            |994                    |0.4337523945837679 |\n",
      "|90+       |L        |148187            |642                    |0.4332363837583593 |\n",
      "|60-69     |S        |1020474           |4410                   |0.432152117545376  |\n",
      "|60-69     |M        |614754            |2640                   |0.429440068710411  |\n",
      "|50-59     |L        |883346            |3783                   |0.42825800988514123|\n",
      "|70-79     |M        |384503            |1638                   |0.4260044785086202 |\n",
      "|60-69     |L        |648874            |2760                   |0.425352225547641  |\n",
      "|70-79     |L        |340208            |1442                   |0.42385834548276347|\n",
      "|70-79     |S        |598931            |2504                   |0.41807820934297946|\n",
      "|50-59     |M        |799418            |3268                   |0.40879740010857896|\n",
      "|90+       |M        |121939            |495                    |0.40594067525566063|\n",
      "|50-59     |S        |1558093           |6163                   |0.39554763419128386|\n",
      "|80-89     |S        |385514            |1499                   |0.38883153400395315|\n",
      "|80-89     |M        |273786            |884                    |0.322879913509091  |\n",
      "|30-39     |S        |2527715           |5087                   |0.20124895409490393|\n",
      "|20-29     |S        |1290081           |2584                   |0.20029750069956845|\n",
      "|40-49     |M        |1600044           |3101                   |0.19380717030281666|\n",
      "|30-39     |L        |1560881           |2988                   |0.1914303524740195 |\n",
      "|40-49     |L        |1780884           |3359                   |0.18861419384979594|\n",
      "|20-29     |L        |785073            |1471                   |0.1873711107119975 |\n",
      "|40-49     |S        |2863639           |5363                   |0.1872791926636004 |\n",
      "|20-29     |M        |745425            |1358                   |0.18217795217493377|\n",
      "|30-39     |M        |1602549           |2911                   |0.18164811185180607|\n",
      "+----------+---------+------------------+-----------------------+-------------------+\n",
      "\n",
      "CPU times: user 34.1 ms, sys: 8.91 ms, total: 43 ms\n",
      "Wall time: 16 s\n"
     ]
    }
   ],
   "source": [
    "%%time\n",
    "from pyspark.sql.types import DoubleType\n",
    "\n",
    "def fraud_ratio(total_transactions, fraudulent_transactions):\n",
    "    total_transactions = int(total_transactions)\n",
    "    fraudulent_transactions = int(fraudulent_transactions)\n",
    "    fraud_perc_ratio = (fraudulent_transactions / total_transactions) * 100\n",
    "    return fraud_perc_ratio\n",
    "\n",
    "fraud_ratio_udf = udf(fraud_ratio, DoubleType())\n",
    "df_fraud_ratio2 = df_fraud_ratio.withColumn('fraud_perc_ratio', fraud_ratio_udf('total_transactions', 'fraudulent_transactions'))\n",
    "df_fraud_ratio2.orderBy(F.col('fraud_perc_ratio').desc()).show(25,truncate= False)"
   ]
  },
  {
   "cell_type": "markdown",
   "metadata": {},
   "source": [
    "#### 3.3. Spark SQL Implementation"
   ]
  },
  {
   "cell_type": "code",
   "execution_count": 49,
   "metadata": {},
   "outputs": [
    {
     "name": "stdout",
     "output_type": "stream",
     "text": [
      "+----------------+-----+-----+-------+---------+--------------+----------+---------+\n",
      "|            city|state|  zip|    lat|     long|id_geolocation|population|city_size|\n",
      "+----------------+-----+-----+-------+---------+--------------+----------+---------+\n",
      "|      Burkeville|   TX|75932|31.0099| -93.6585|             1|      1437|        S|\n",
      "|          Fresno|   TX|77545|29.5293| -95.4626|             2|     19431|        S|\n",
      "|           Osseo|   MN|55311|45.1243| -93.4996|             3|     65312|        M|\n",
      "|          Pomona|   CA|91766|34.0418|-117.7569|             4|    154204|        M|\n",
      "|       Vacaville|   CA|95688|38.3847|-121.9887|             5|     99475|        M|\n",
      "|South Lake Tahoe|   CA|96150| 38.917|-119.9865|             6|     29800|        S|\n",
      "|       Belvidere|   TN|37306|35.1415| -86.1728|             7|      2760|        S|\n",
      "|        Columbia|   SC|29205|33.9903| -80.9997|             8|    333497|        L|\n",
      "|         Chicago|   IL|60660|41.9909| -87.6629|             9|   2680484|        L|\n",
      "|       Tunnelton|   WV|26444|39.3625| -79.7478|            10|      3639|        S|\n",
      "|      Rockbridge|   OH|43149|39.5509| -82.5626|            11|      2552|        S|\n",
      "| Fort Lauderdale|   FL|33312|26.0968|  -80.181|            12|    711693|        L|\n",
      "|       Hollywood|   FL|33029|25.9924| -80.4089|            13|    420284|        L|\n",
      "|     East Orange|   NJ| 7017|40.7696| -74.2077|            14|     64267|        M|\n",
      "|       Flat Rock|   MI|48134|42.1055| -83.2795|            15|     21408|        S|\n",
      "|        Perkasie|   PA|18944|40.3765| -75.2648|            16|     24479|        S|\n",
      "|      West Nyack|   NY|10994|41.0973| -73.9768|            17|      7085|        S|\n",
      "|       Nesconset|   NY|11767|40.8462| -73.1482|            18|     14530|        S|\n",
      "|    Lambertville|   NJ| 8530|40.3731| -74.9266|            19|      8071|        S|\n",
      "|    Gloversville|   NY|12078|43.0616| -74.3375|            20|     23773|        S|\n",
      "+----------------+-----+-----+-------+---------+--------------+----------+---------+\n",
      "only showing top 20 rows\n",
      "\n",
      "CPU times: user 8.97 ms, sys: 83 µs, total: 9.05 ms\n",
      "Wall time: 199 ms\n"
     ]
    }
   ],
   "source": [
    "%%time\n",
    "spark.udf.register('city_population_df', city_population_df, StringType())\n",
    "geolocation_sql = spark.sql('''\n",
    "    SELECT *,\n",
    "           city_population_df(population) AS city_size\n",
    "    FROM sql_geolocation\n",
    "''')\n",
    "geolocation_sql.show()\n",
    "geolocation_sql.createOrReplaceTempView(\"geolocation_sql\")"
   ]
  },
  {
   "cell_type": "code",
   "execution_count": 50,
   "metadata": {},
   "outputs": [
    {
     "name": "stdout",
     "output_type": "stream",
     "text": [
      "+-----------+----------------------------+----------+--------------+---+\n",
      "|id_customer|address                     |dob       |id_geolocation|age|\n",
      "+-----------+----------------------------+----------+--------------+---+\n",
      "|263-99-6044|058 Stanley Cliff           |2005-05-30|6339          |19 |\n",
      "|292-61-7844|413 Angela Mall             |2003-04-19|6200          |21 |\n",
      "|491-28-3311|5712 Tamara Estate          |2002-04-17|3547          |22 |\n",
      "|826-23-1754|1016 Bennett Mountains      |2001-07-15|6302          |23 |\n",
      "|172-11-9264|819 Joseph Plains Suite 807 |2003-11-21|5227          |20 |\n",
      "|150-95-7922|51844 Nicholas Lane         |2006-03-06|4047          |18 |\n",
      "|841-99-2980|91279 Natalie Place Apt. 172|2005-07-01|6271          |19 |\n",
      "|705-41-6699|58874 Lane Trail Suite 213  |2003-01-23|6302          |21 |\n",
      "|016-22-4524|52812 Hall Point            |2001-08-26|5614          |23 |\n",
      "|639-46-2126|0558 Alex Flats Suite 414   |2005-02-10|6328          |19 |\n",
      "|088-02-7683|48964 Lambert Curve         |2001-11-18|6328          |22 |\n",
      "|738-76-3908|87829 Sandy Camp            |1935-09-26|6082          |88 |\n",
      "|508-68-8597|186 Davis Shore             |2009-07-05|5835          |15 |\n",
      "|122-78-6695|44327 David Keys Apt. 067   |2003-01-22|5476          |21 |\n",
      "|582-05-2280|21820 Johnson Flat Apt. 643 |2002-05-27|3308          |22 |\n",
      "|828-04-3697|17350 Stone Freeway Apt. 997|2001-08-05|5561          |23 |\n",
      "|045-31-2588|5636 Alex Crescent Apt. 577 |2000-02-21|6302          |24 |\n",
      "|175-23-6139|912 Kelly Lane Apt. 415     |2001-12-26|6331          |22 |\n",
      "|011-23-9295|51305 Jeffrey Stream        |2007-05-30|6306          |17 |\n",
      "|497-83-2771|357 Hudson Route            |2003-03-26|1311          |21 |\n",
      "+-----------+----------------------------+----------+--------------+---+\n",
      "only showing top 20 rows\n",
      "\n",
      "CPU times: user 4.68 ms, sys: 62 µs, total: 4.74 ms\n",
      "Wall time: 118 ms\n"
     ]
    }
   ],
   "source": [
    "%%time\n",
    "spark.udf.register('age', age, IntegerType())\n",
    "customers_sql = spark.sql('''\n",
    "    SELECT id_customer, \n",
    "           address, \n",
    "           dob, \n",
    "           id_geolocation, \n",
    "           age(dob) AS age\n",
    "    FROM sql_customers\n",
    "''')\n",
    "customers_sql.show(truncate=False)"
   ]
  },
  {
   "cell_type": "code",
   "execution_count": 51,
   "metadata": {},
   "outputs": [
    {
     "name": "stdout",
     "output_type": "stream",
     "text": [
      "+-----------+----------------------------+----------+--------------+---+----------+\n",
      "|id_customer|address                     |dob       |id_geolocation|age|age_bucket|\n",
      "+-----------+----------------------------+----------+--------------+---+----------+\n",
      "|263-99-6044|058 Stanley Cliff           |2005-05-30|6339          |19 |10-19     |\n",
      "|292-61-7844|413 Angela Mall             |2003-04-19|6200          |21 |20-29     |\n",
      "|491-28-3311|5712 Tamara Estate          |2002-04-17|3547          |22 |20-29     |\n",
      "|826-23-1754|1016 Bennett Mountains      |2001-07-15|6302          |23 |20-29     |\n",
      "|172-11-9264|819 Joseph Plains Suite 807 |2003-11-21|5227          |20 |20-29     |\n",
      "|150-95-7922|51844 Nicholas Lane         |2006-03-06|4047          |18 |10-19     |\n",
      "|841-99-2980|91279 Natalie Place Apt. 172|2005-07-01|6271          |19 |10-19     |\n",
      "|705-41-6699|58874 Lane Trail Suite 213  |2003-01-23|6302          |21 |20-29     |\n",
      "|016-22-4524|52812 Hall Point            |2001-08-26|5614          |23 |20-29     |\n",
      "|639-46-2126|0558 Alex Flats Suite 414   |2005-02-10|6328          |19 |10-19     |\n",
      "|088-02-7683|48964 Lambert Curve         |2001-11-18|6328          |22 |20-29     |\n",
      "|738-76-3908|87829 Sandy Camp            |1935-09-26|6082          |88 |80-89     |\n",
      "|508-68-8597|186 Davis Shore             |2009-07-05|5835          |15 |10-19     |\n",
      "|122-78-6695|44327 David Keys Apt. 067   |2003-01-22|5476          |21 |20-29     |\n",
      "|582-05-2280|21820 Johnson Flat Apt. 643 |2002-05-27|3308          |22 |20-29     |\n",
      "|828-04-3697|17350 Stone Freeway Apt. 997|2001-08-05|5561          |23 |20-29     |\n",
      "|045-31-2588|5636 Alex Crescent Apt. 577 |2000-02-21|6302          |24 |20-29     |\n",
      "|175-23-6139|912 Kelly Lane Apt. 415     |2001-12-26|6331          |22 |20-29     |\n",
      "|011-23-9295|51305 Jeffrey Stream        |2007-05-30|6306          |17 |10-19     |\n",
      "|497-83-2771|357 Hudson Route            |2003-03-26|1311          |21 |20-29     |\n",
      "+-----------+----------------------------+----------+--------------+---+----------+\n",
      "only showing top 20 rows\n",
      "\n",
      "CPU times: user 4.43 ms, sys: 244 µs, total: 4.67 ms\n",
      "Wall time: 119 ms\n"
     ]
    }
   ],
   "source": [
    "%%time\n",
    "spark.udf.register('age_bucket_df', age_bucket_df, StringType())\n",
    "customers_sql.createOrReplaceTempView(\"customers_sql\")\n",
    "customers_sql2 = spark.sql('''\n",
    "    SELECT *, \n",
    "           age_bucket_df(age) AS age_bucket\n",
    "    FROM customers_sql\n",
    "''')\n",
    "customers_sql2.show(truncate=False)\n",
    "customers_sql2.createOrReplaceTempView(\"customers_sql2\")"
   ]
  },
  {
   "cell_type": "code",
   "execution_count": 52,
   "metadata": {},
   "outputs": [
    {
     "name": "stdout",
     "output_type": "stream",
     "text": [
      "+--------------+---------+-----------+----------+\n",
      "|id_geolocation|city_size|id_customer|age_bucket|\n",
      "+--------------+---------+-----------+----------+\n",
      "|          6339|        S|263-99-6044|     10-19|\n",
      "|          6200|        S|292-61-7844|     20-29|\n",
      "|          3547|        S|491-28-3311|     20-29|\n",
      "|          6302|        L|826-23-1754|     20-29|\n",
      "|          5227|        M|172-11-9264|     20-29|\n",
      "|          4047|        L|150-95-7922|     10-19|\n",
      "|          6271|        M|841-99-2980|     10-19|\n",
      "|          6302|        L|705-41-6699|     20-29|\n",
      "|          5614|        L|016-22-4524|     20-29|\n",
      "|          6328|        S|639-46-2126|     10-19|\n",
      "|          6328|        S|088-02-7683|     20-29|\n",
      "|          6082|        S|738-76-3908|     80-89|\n",
      "|          5835|        L|508-68-8597|     10-19|\n",
      "|          5476|        M|122-78-6695|     20-29|\n",
      "|          3308|        M|582-05-2280|     20-29|\n",
      "|          5561|        S|828-04-3697|     20-29|\n",
      "|          6302|        L|045-31-2588|     20-29|\n",
      "|          6331|        S|175-23-6139|     20-29|\n",
      "|          6306|        S|011-23-9295|     10-19|\n",
      "|          1311|        M|497-83-2771|     20-29|\n",
      "+--------------+---------+-----------+----------+\n",
      "only showing top 20 rows\n",
      "\n",
      "CPU times: user 1.02 ms, sys: 3.06 ms, total: 4.09 ms\n",
      "Wall time: 254 ms\n"
     ]
    }
   ],
   "source": [
    "%%time\n",
    "customers_geo_sql = spark.sql('''\n",
    "    SELECT g.id_geolocation,\n",
    "           g.city_size,\n",
    "           c.id_customer,\n",
    "           c.age_bucket\n",
    "    FROM customers_sql2 c LEFT JOIN geolocation_sql g\n",
    "    ON c.id_geolocation = g.id_geolocation\n",
    "''')\n",
    "customers_geo_sql.show()\n",
    "customers_geo_sql.createOrReplaceTempView(\"customers_geo_sql\")"
   ]
  },
  {
   "cell_type": "code",
   "execution_count": 53,
   "metadata": {},
   "outputs": [
    {
     "name": "stdout",
     "output_type": "stream",
     "text": [
      "+-----------+--------+--------------+---------+----------+\n",
      "|id_customer|is_fraud|id_geolocation|city_size|age_bucket|\n",
      "+-----------+--------+--------------+---------+----------+\n",
      "|120-21-3601|       0|          1108|        L|     40-49|\n",
      "|277-12-7638|       0|           337|        S|     50-59|\n",
      "|823-85-5801|       0|           950|        M|     20-29|\n",
      "|751-22-8893|       0|          2799|        S|     40-49|\n",
      "|687-93-6553|       0|          2576|        M|     80-89|\n",
      "|892-62-7211|       0|          2352|        S|     30-39|\n",
      "|397-54-0253|       0|           218|        S|     20-29|\n",
      "|385-77-6544|       0|            87|        M|     50-59|\n",
      "|615-63-3623|       0|           718|        S|     50-59|\n",
      "|296-96-6479|       0|          1090|        L|     60-69|\n",
      "|031-66-3742|       0|          2148|        L|     40-49|\n",
      "|248-09-7729|       0|           222|        M|     60-69|\n",
      "|794-45-4364|       0|            46|        S|     30-39|\n",
      "|436-80-2340|       0|            60|        M|     20-29|\n",
      "|450-56-1117|       0|           138|        L|     20-29|\n",
      "|877-16-8226|       0|           747|        L|     40-49|\n",
      "|432-36-7641|       0|          2431|        M|     20-29|\n",
      "|410-97-3989|       0|          2105|        L|     20-29|\n",
      "|839-33-4415|       0|          2246|        L|     30-39|\n",
      "|511-52-9251|       0|          2156|        M|     30-39|\n",
      "+-----------+--------+--------------+---------+----------+\n",
      "only showing top 20 rows\n",
      "\n",
      "CPU times: user 2.45 ms, sys: 958 µs, total: 3.4 ms\n",
      "Wall time: 411 ms\n"
     ]
    }
   ],
   "source": [
    "%%time\n",
    "transaction_age_sql = spark.sql('''\n",
    "    SELECT t.id_customer,\n",
    "           t.is_fraud,\n",
    "           t.id_geolocation,\n",
    "           c.city_size,\n",
    "           c.age_bucket\n",
    "    FROM sql_transactions t LEFT JOIN customers_geo_sql c\n",
    "    ON t.id_customer = c.id_customer    \n",
    "''')\n",
    "transaction_age_sql.show()\n",
    "transaction_age_sql.createOrReplaceTempView(\"transaction_age_sql\")"
   ]
  },
  {
   "cell_type": "code",
   "execution_count": 54,
   "metadata": {},
   "outputs": [
    {
     "name": "stdout",
     "output_type": "stream",
     "text": [
      "+----------+---------+------------------+\n",
      "|age_bucket|city_size|total_transactions|\n",
      "+----------+---------+------------------+\n",
      "|     80-89|        S|            385514|\n",
      "|     50-59|        S|           1558093|\n",
      "|     50-59|        L|            883346|\n",
      "|     40-49|        S|           2863639|\n",
      "|     30-39|        L|           1560881|\n",
      "|     70-79|        M|            384503|\n",
      "|     30-39|        M|           1602549|\n",
      "|     40-49|        L|           1780884|\n",
      "|       90+|        L|            148187|\n",
      "|     70-79|        S|            598931|\n",
      "|       90+|        M|            121939|\n",
      "|     20-29|        S|           1290081|\n",
      "|     70-79|        L|            340208|\n",
      "|     40-49|        M|           1600044|\n",
      "|     50-59|        M|            799418|\n",
      "|     20-29|        L|            785073|\n",
      "|     60-69|        S|           1020474|\n",
      "|     30-39|        S|           2527715|\n",
      "|     80-89|        L|            186354|\n",
      "|     60-69|        L|            648874|\n",
      "+----------+---------+------------------+\n",
      "only showing top 20 rows\n",
      "\n",
      "CPU times: user 6.44 ms, sys: 348 µs, total: 6.79 ms\n",
      "Wall time: 8.31 s\n"
     ]
    }
   ],
   "source": [
    "%%time\n",
    "total_transactions_sql = spark.sql('''\n",
    "    SELECT age_bucket,\n",
    "           city_size,\n",
    "           COUNT(*) AS total_transactions\n",
    "    FROM transaction_age_sql\n",
    "    GROUP BY age_bucket, city_size\n",
    "''')\n",
    "\n",
    "fraud_transactions_sql = spark.sql('''\n",
    "    SELECT age_bucket,\n",
    "           city_size,\n",
    "           COUNT(*) AS fraudulent_transactions\n",
    "    FROM transaction_age_sql\n",
    "    WHERE is_fraud = 1\n",
    "    GROUP BY age_bucket, city_size\n",
    "''')\n",
    "\n",
    "total_transactions_sql.show()\n",
    "total_transactions_sql.createOrReplaceTempView(\"total_transactions_sql\")"
   ]
  },
  {
   "cell_type": "code",
   "execution_count": 55,
   "metadata": {},
   "outputs": [
    {
     "name": "stdout",
     "output_type": "stream",
     "text": [
      "+----------+---------+-----------------------+\n",
      "|age_bucket|city_size|fraudulent_transactions|\n",
      "+----------+---------+-----------------------+\n",
      "|     80-89|        S|                   1499|\n",
      "|     50-59|        S|                   6163|\n",
      "|     50-59|        L|                   3783|\n",
      "|     40-49|        S|                   5363|\n",
      "|     30-39|        L|                   2988|\n",
      "|     70-79|        M|                   1638|\n",
      "|     30-39|        M|                   2911|\n",
      "|     40-49|        L|                   3359|\n",
      "|       90+|        L|                    642|\n",
      "|     70-79|        S|                   2504|\n",
      "|       90+|        M|                    495|\n",
      "|     20-29|        S|                   2584|\n",
      "|     70-79|        L|                   1442|\n",
      "|     40-49|        M|                   3101|\n",
      "|     50-59|        M|                   3268|\n",
      "|     20-29|        L|                   1471|\n",
      "|     60-69|        S|                   4410|\n",
      "|     30-39|        S|                   5087|\n",
      "|     80-89|        L|                    922|\n",
      "|     60-69|        L|                   2760|\n",
      "+----------+---------+-----------------------+\n",
      "only showing top 20 rows\n",
      "\n"
     ]
    }
   ],
   "source": [
    "fraud_transactions_sql.show()\n",
    "fraud_transactions_sql.createOrReplaceTempView(\"fraud_transactions_sql\")"
   ]
  },
  {
   "cell_type": "code",
   "execution_count": 63,
   "metadata": {},
   "outputs": [
    {
     "name": "stdout",
     "output_type": "stream",
     "text": [
      "+----------+---------+------------------+-----------------------+-------------------+\n",
      "|age_bucket|city_size|total_transactions|fraudulent_transactions|   fraud_perc_ratio|\n",
      "+----------+---------+------------------+-----------------------+-------------------+\n",
      "|     80-89|        L|            186354|                    922| 0.4947572898891357|\n",
      "|       90+|        S|            229163|                    994| 0.4337523945837679|\n",
      "|       90+|        L|            148187|                    642| 0.4332363837583593|\n",
      "|     60-69|        S|           1020474|                   4410|  0.432152117545376|\n",
      "|     60-69|        M|            614754|                   2640|  0.429440068710411|\n",
      "|     50-59|        L|            883346|                   3783|0.42825800988514123|\n",
      "|     70-79|        M|            384503|                   1638| 0.4260044785086202|\n",
      "|     60-69|        L|            648874|                   2760|  0.425352225547641|\n",
      "|     70-79|        L|            340208|                   1442|0.42385834548276347|\n",
      "|     70-79|        S|            598931|                   2504|0.41807820934297946|\n",
      "|     50-59|        M|            799418|                   3268|0.40879740010857896|\n",
      "|       90+|        M|            121939|                    495|0.40594067525566063|\n",
      "|     50-59|        S|           1558093|                   6163|0.39554763419128386|\n",
      "|     80-89|        S|            385514|                   1499|0.38883153400395315|\n",
      "|     80-89|        M|            273786|                    884|  0.322879913509091|\n",
      "|     30-39|        S|           2527715|                   5087|0.20124895409490393|\n",
      "|     20-29|        S|           1290081|                   2584|0.20029750069956845|\n",
      "|     40-49|        M|           1600044|                   3101|0.19380717030281666|\n",
      "|     30-39|        L|           1560881|                   2988| 0.1914303524740195|\n",
      "|     40-49|        L|           1780884|                   3359|0.18861419384979594|\n",
      "|     20-29|        L|            785073|                   1471| 0.1873711107119975|\n",
      "|     40-49|        S|           2863639|                   5363| 0.1872791926636004|\n",
      "|     20-29|        M|            745425|                   1358|0.18217795217493377|\n",
      "|     30-39|        M|           1602549|                   2911|0.18164811185180607|\n",
      "+----------+---------+------------------+-----------------------+-------------------+\n",
      "\n",
      "CPU times: user 11.7 ms, sys: 3.14 ms, total: 14.8 ms\n",
      "Wall time: 14.5 s\n"
     ]
    }
   ],
   "source": [
    "%%time\n",
    "df_fraud_analysis_sql = spark.sql('''\n",
    "    SELECT t.age_bucket,\n",
    "           t.city_size,\n",
    "           t.total_transactions,\n",
    "           f.fraudulent_transactions,\n",
    "           (f.fraudulent_transactions / t.total_transactions) * 100 AS fraud_perc_ratio\n",
    "    FROM total_transactions_sql t\n",
    "    LEFT JOIN fraud_transactions_sql f\n",
    "    ON t.age_bucket = f.age_bucket AND t.city_size = f.city_size\n",
    "    ORDER BY fraud_perc_ratio DESC\n",
    "''')\n",
    "\n",
    "df_fraud_analysis_sql.show(25)"
   ]
  },
  {
   "cell_type": "markdown",
   "metadata": {},
   "source": [
    "### 3.4 Which one is the easiest to implement in your opinion? Log the time taken for each query, and observe the query execution time, among RDD, DataFrame, SparkSQL, which is the fastest and why? Please include proper reference. (Maximum 500 words.)"
   ]
  },
  {
   "cell_type": "markdown",
   "metadata": {},
   "source": [
    "For me, SQL implementation was the easier as the sql operations adn functions are pretty straightforward, especially when joining and filtering conditions. Dataframe would be the second easiest to implement having worked with pandas previously. RDD operations were the hardest to come up with as it only takes in lambda and indixes when trying to access data, especially having removed headers.  Moreover, RDD outputs can be very hard to read at times when it beomes tupe and lists, hence majority of the rdd were flatten out.\n",
    "\n",
    "In therms of execution time, below \n",
    "* CPU times: user 38 ms, sys: 12.8 ms, total: 50.7 ms\n",
    "* Wall time: 7.62 s\n",
    "\n",
    "Compared with Dataframe:\n",
    "\n",
    "* CPU times: user 34.1 ms, sys: 8.91 ms, total: 43 ms\n",
    "* Wall time: 16 s\n",
    "\n",
    "Spark SQL\n",
    "\n",
    "* CPU times: user 11.7 ms, sys: 3.14 ms, total: 14.8 ms\n",
    "* Wall time: 14.5 s\n"
   ]
  },
  {
   "cell_type": "markdown",
   "metadata": {},
   "source": [
    "### Some ideas on the comparison\n",
    "\n",
    "Armbrust, M., Huai, Y., Liang, C., Xin, R., & Zaharia, M. (2015). Deep Dive into Spark SQL’s Catalyst Optimizer. Retrieved September 30, 2017, from https://databricks.com/blog/2015/04/13/deep-dive-into-spark-sqls-catalyst-optimizer.html\n",
    "\n",
    "Damji, J. (2016). A Tale of Three Apache Spark APIs: RDDs, DataFrames, and Datasets. Retrieved September 28, 2017, from https://databricks.com/blog/2016/07/14/a-tale-of-three-apache-spark-apis-rdds-dataframes-and-datasets.html\n",
    "\n",
    "Data Flair (2017a). Apache Spark RDD vs DataFrame vs DataSet. Retrieved September 28, 2017, from http://data-flair.training/blogs/apache-spark-rdd-vs-dataframe-vs-dataset\n",
    "\n",
    "Prakash, C. (2016). Apache Spark: RDD vs Dataframe vs Dataset. Retrieved September 28, 2017, from http://why-not-learn-something.blogspot.com.au/2016/07/apache-spark-rdd-vs-dataframe-vs-dataset.html\n",
    "\n",
    "Xin, R., & Rosen, J. (2015). Project Tungsten: Bringing Apache Spark Closer to Bare Metal. Retrieved September 30, 2017, from https://databricks.com/blog/2015/04/28/project-tungsten-bringing-spark-closer-to-bare-metal.html"
   ]
  }
 ],
 "metadata": {
  "kernelspec": {
   "display_name": "Python 3 (ipykernel)",
   "language": "python",
   "name": "python3"
  },
  "language_info": {
   "codemirror_mode": {
    "name": "ipython",
    "version": 3
   },
   "file_extension": ".py",
   "mimetype": "text/x-python",
   "name": "python",
   "nbconvert_exporter": "python",
   "pygments_lexer": "ipython3",
   "version": "3.10.13"
  }
 },
 "nbformat": 4,
 "nbformat_minor": 4
}
